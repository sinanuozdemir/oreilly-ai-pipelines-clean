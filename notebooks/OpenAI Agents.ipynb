{
 "cells": [
  {
   "cell_type": "markdown",
   "id": "c416f128-9844-4b1b-8054-a4e1073f0ea8",
   "metadata": {},
   "source": [
    "# Basic Usage"
   ]
  },
  {
   "cell_type": "code",
   "execution_count": 2,
   "id": "471e0ab1-d808-471b-ac60-984ad16369ac",
   "metadata": {},
   "outputs": [],
   "source": [
    "import asyncio\n",
    "from agents import Agent, handoff, Runner, trace\n",
    "\n",
    "# Define your agents\n",
    "billing_agent = Agent(name=\"Billing agent\")\n",
    "refund_agent = Agent(name=\"Refund agent\")\n",
    "triage_agent = Agent(name=\"Triage agent\", handoffs=[billing_agent, handoff(refund_agent)])\n"
   ]
  },
  {
   "cell_type": "code",
   "execution_count": 3,
   "id": "ab67b766-a947-4b55-94aa-f42215cf0c47",
   "metadata": {},
   "outputs": [],
   "source": [
    "# Conversation thread ID\n",
    "thread_id = \"1\""
   ]
  },
  {
   "cell_type": "code",
   "execution_count": 8,
   "id": "dd565680-6ffe-445c-afa4-3ee02f645100",
   "metadata": {},
   "outputs": [
    {
     "name": "stdout",
     "output_type": "stream",
     "text": [
      "Start chatting with the agent (type 'exit' to quit):\n"
     ]
    },
    {
     "name": "stdin",
     "output_type": "stream",
     "text": [
      "You:  I'm Sinan\n"
     ]
    },
    {
     "name": "stdout",
     "output_type": "stream",
     "text": [
      "Agent: Hi Sinan! How can I help you today?\n"
     ]
    },
    {
     "name": "stdin",
     "output_type": "stream",
     "text": [
      "You:  what is my name?\n"
     ]
    },
    {
     "name": "stdout",
     "output_type": "stream",
     "text": [
      "Agent: I'm sorry, I don't have access to personal data about you. Could you please tell me your name?\n"
     ]
    },
    {
     "name": "stdin",
     "output_type": "stream",
     "text": [
      "You:  exit\n"
     ]
    }
   ],
   "source": [
    "# no default threading in the convo!\n",
    "\n",
    "# Interactive chat loop\n",
    "async def chat_with_agent(agent):\n",
    "    print(\"Start chatting with the agent (type 'exit' to quit):\")\n",
    "    with trace(workflow_name=\"Triage Workflow\", group_id=thread_id):\n",
    "        while True:\n",
    "            user_input = input(\"You: \")\n",
    "            if user_input.lower() in [\"exit\", \"quit\"]:\n",
    "                break\n",
    "            result = await Runner.run(agent, user_input)\n",
    "            print(\"Agent:\", result.final_output)\n",
    "\n",
    "# Run in Jupyter\n",
    "await chat_with_agent(triage_agent)\n"
   ]
  },
  {
   "cell_type": "markdown",
   "id": "44113b66-59c5-4f7e-89b7-fe42ee58a51e",
   "metadata": {},
   "source": [
    "# Adding threading"
   ]
  },
  {
   "cell_type": "code",
   "execution_count": 10,
   "id": "d876b724-6fea-4c95-ab24-87fcb961cd91",
   "metadata": {},
   "outputs": [
    {
     "name": "stdout",
     "output_type": "stream",
     "text": [
      "Start chatting with the agent (type 'exit' to quit):\n"
     ]
    },
    {
     "name": "stdin",
     "output_type": "stream",
     "text": [
      "You:  I'm Sinan\n"
     ]
    },
    {
     "name": "stdout",
     "output_type": "stream",
     "text": [
      "Agent: Hi Sinan! How can I assist you today?\n"
     ]
    },
    {
     "name": "stdin",
     "output_type": "stream",
     "text": [
      "You:  what is my name?\n"
     ]
    },
    {
     "name": "stdout",
     "output_type": "stream",
     "text": [
      "Agent: You mentioned your name is Sinan. How can I assist you further?\n"
     ]
    },
    {
     "name": "stdin",
     "output_type": "stream",
     "text": [
      "You:  refund\n"
     ]
    },
    {
     "name": "stdout",
     "output_type": "stream",
     "text": [
      "Agent: To help with a refund, I'll connect you to the refund agent. Please provide any specific details about your request, if prompted.\n"
     ]
    },
    {
     "name": "stdin",
     "output_type": "stream",
     "text": [
      "You:  what is my name?\n"
     ]
    },
    {
     "name": "stdout",
     "output_type": "stream",
     "text": [
      "Agent: You mentioned earlier that your name is Sinan.\n"
     ]
    },
    {
     "name": "stdin",
     "output_type": "stream",
     "text": [
      "You:  exit\n"
     ]
    }
   ],
   "source": [
    "# Chat loop with history\n",
    "async def chat_with_agent_with_thread(agent):\n",
    "    print(\"Start chatting with the agent (type 'exit' to quit):\")\n",
    "    with trace(workflow_name=\"Triage Workflow\", group_id=thread_id):\n",
    "        result = None\n",
    "        while True:\n",
    "            user_input = input(\"You: \")\n",
    "            if user_input.lower() in [\"exit\", \"quit\"]:\n",
    "                break\n",
    "\n",
    "            # Build input list with history\n",
    "            if result:\n",
    "                new_input = result.to_input_list() + [{\"role\": \"user\", \"content\": user_input}]\n",
    "            else:\n",
    "                new_input = user_input  # First turn is just the raw input\n",
    "            \n",
    "            result = await Runner.run(agent, new_input)\n",
    "            print(\"Agent:\", result.final_output)\n",
    "\n",
    "\n",
    "# Run in Jupyter\n",
    "await chat_with_agent_with_thread(triage_agent)"
   ]
  },
  {
   "cell_type": "markdown",
   "id": "23e69153-8d3f-43e3-a673-8545bb8e78ed",
   "metadata": {},
   "source": [
    "# Using a tool to get the weather and more advanced handoff instructions"
   ]
  },
  {
   "cell_type": "code",
   "execution_count": 24,
   "id": "7311b69a-3966-4dac-94da-5cd4c745f260",
   "metadata": {},
   "outputs": [
    {
     "name": "stdout",
     "output_type": "stream",
     "text": [
      "Start chatting with the agent (type 'exit' to quit):\n"
     ]
    },
    {
     "name": "stdin",
     "output_type": "stream",
     "text": [
      "You:  merhaba\n"
     ]
    },
    {
     "name": "stdout",
     "output_type": "stream",
     "text": [
      "Agent: Merhaba! Size nasıl yardımcı olabilirim?\n"
     ]
    },
    {
     "name": "stdin",
     "output_type": "stream",
     "text": [
      "You:  Istanbulda hava nasil?\n"
     ]
    },
    {
     "name": "stdout",
     "output_type": "stream",
     "text": [
      "[debug] get_weather called with city: Istanbul\n",
      "Agent: İstanbul'da hava yağışlı. Başka bir konuda yardımcı olabilir miyim?\n"
     ]
    },
    {
     "name": "stdin",
     "output_type": "stream",
     "text": [
      "You:  exit\n"
     ]
    }
   ],
   "source": [
    "import asyncio\n",
    "from agents import Agent, Runner, handoff, function_tool\n",
    "from agents.extensions.handoff_prompt import prompt_with_handoff_instructions\n",
    "\n",
    "import random\n",
    "\n",
    "# Define the tool\n",
    "@function_tool\n",
    "def get_weather(city: str) -> str:\n",
    "    \"\"\"Get the weather for a given city.\"\"\"\n",
    "    print(f\"[debug] get_weather called with city: {city}\")\n",
    "    choices = [\"sunny\", \"cloudy\", \"rainy\", \"snowy\"]\n",
    "    return f\"The weather in {city} is {random.choice(choices)}.\"\n",
    "\n",
    "# Turkish agent\n",
    "turkish_agent = Agent(\n",
    "    name=\"Turkish\",\n",
    "    handoff_description=\"A Turkish speaking agent.\",\n",
    "    instructions=prompt_with_handoff_instructions(\n",
    "        \"You're speaking to a human, so be polite and concise. Speak in Turkish.\",\n",
    "    ),\n",
    "    model=\"gpt-4o-mini\",\n",
    ")\n",
    "\n",
    "# Main assistant agent\n",
    "agent = Agent(\n",
    "    name=\"Assistant\",\n",
    "    instructions=prompt_with_handoff_instructions(\n",
    "        \"You're speaking to a human, so be polite and concise. If the user speaks in Turkish, handoff to the turkish agent.\",\n",
    "    ),\n",
    "    model=\"gpt-4o-mini\",\n",
    "    handoffs=[turkish_agent],\n",
    "    tools=[get_weather],\n",
    ")\n",
    "\n",
    "# Chat loop with history\n",
    "async def chat_with_agent(agent):\n",
    "    print(\"Start chatting with the agent (type 'exit' to quit):\")\n",
    "    result = None\n",
    "    while True:\n",
    "        user_input = input(\"You: \")\n",
    "        if user_input.lower() in [\"exit\", \"quit\"]:\n",
    "            break\n",
    "\n",
    "        if result:\n",
    "            new_input = result.to_input_list() + [{\"role\": \"user\", \"content\": user_input}]\n",
    "        else:\n",
    "            new_input = user_input  # First turn\n",
    "\n",
    "        result = await Runner.run(agent, new_input)\n",
    "        print(\"Agent:\", result.final_output)\n",
    "\n",
    "# Run the chat loop in a Jupyter cell\n",
    "await chat_with_agent(agent)\n"
   ]
  },
  {
   "cell_type": "code",
   "execution_count": null,
   "id": "3276a006-d5e6-44bb-adb5-9ae232148ccc",
   "metadata": {},
   "outputs": [],
   "source": []
  }
 ],
 "metadata": {
  "kernelspec": {
   "display_name": "Python (/usr/bin/python3)",
   "language": "python",
   "name": "my_python3"
  },
  "language_info": {
   "codemirror_mode": {
    "name": "ipython",
    "version": 3
   },
   "file_extension": ".py",
   "mimetype": "text/x-python",
   "name": "python",
   "nbconvert_exporter": "python",
   "pygments_lexer": "ipython3",
   "version": "3.9.6"
  }
 },
 "nbformat": 4,
 "nbformat_minor": 5
}
