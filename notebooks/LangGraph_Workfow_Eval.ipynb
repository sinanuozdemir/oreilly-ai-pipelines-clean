{
 "cells": [
  {
   "cell_type": "markdown",
   "metadata": {},
   "source": [
    "# Simple RAG - Retrieval Augmented Generation"
   ]
  },
  {
   "cell_type": "code",
   "execution_count": 1,
   "metadata": {},
   "outputs": [],
   "source": [
    "import os\n",
    "\n",
    "os.environ[\"OPENAI_API_KEY\"] = 'sk-***'"
   ]
  },
  {
   "cell_type": "markdown",
   "metadata": {},
   "source": [
    "## Setup / Grabbing Documents"
   ]
  },
  {
   "cell_type": "code",
   "execution_count": 3,
   "metadata": {
    "colab": {
     "base_uri": "https://localhost:8080/"
    },
    "id": "-47NGgZAvFz-",
    "outputId": "72f0e0c9-0fa5-45b2-fd88-f3c9f710afa5",
    "scrolled": true
   },
   "outputs": [
    {
     "name": "stderr",
     "output_type": "stream",
     "text": [
      "USER_AGENT environment variable not set, consider setting it to identify your requests.\n"
     ]
    }
   ],
   "source": [
    "from langchain.text_splitter import RecursiveCharacterTextSplitter\n",
    "from langchain_community.document_loaders import WebBaseLoader\n",
    "from langchain_community.vectorstores import Chroma\n",
    "from langchain_openai import OpenAIEmbeddings\n",
    "import uuid\n",
    "urls = [\n",
    "    \"https://lilianweng.github.io/posts/2023-06-23-agent/\",\n",
    "    \"https://lilianweng.github.io/posts/2023-03-15-prompt-engineering/\",\n",
    "    \"https://lilianweng.github.io/posts/2023-10-25-adv-attack-llm/\",\n",
    "]\n",
    "\n",
    "docs = [WebBaseLoader(url).load() for url in urls]\n",
    "docs_list = [item for sublist in docs for item in sublist]\n",
    "\n",
    "text_splitter = RecursiveCharacterTextSplitter.from_tiktoken_encoder(\n",
    "    chunk_size=512, chunk_overlap=128\n",
    ")\n",
    "\n",
    "doc_splits = text_splitter.split_documents(docs_list)\n",
    "\n",
    "\n",
    "for doc in doc_splits:\n",
    "    doc.metadata[\"id\"] = str(uuid.uuid4())\n",
    "\n",
    "# Add to vectorDB\n",
    "vectorstore = Chroma.from_documents(\n",
    "    documents=doc_splits,\n",
    "    collection_name=\"rag-chroma\",\n",
    "    embedding=OpenAIEmbeddings(model=\"text-embedding-3-small\")\n",
    ")\n",
    "retriever = vectorstore.as_retriever()"
   ]
  },
  {
   "cell_type": "code",
   "execution_count": 4,
   "metadata": {},
   "outputs": [
    {
     "name": "stdout",
     "output_type": "stream",
     "text": [
      "Total documents: 92\n"
     ]
    }
   ],
   "source": [
    "num_docs = len(vectorstore._collection.get(include=[\"documents\"])[\"documents\"])\n",
    "print(\"Total documents:\", num_docs)\n"
   ]
  },
  {
   "cell_type": "code",
   "execution_count": 5,
   "metadata": {
    "colab": {
     "base_uri": "https://localhost:8080/"
    },
    "id": "YxTG7Kk2xZhm",
    "outputId": "e08810b4-d44d-4fb6-d3e7-6dad5c406ad8"
   },
   "outputs": [
    {
     "name": "stderr",
     "output_type": "stream",
     "text": [
      "/var/folders/y9/9xqbqkg90tnc0cmm0dxt985m0000gn/T/ipykernel_67912/2952994269.py:2: LangChainDeprecationWarning: The method `BaseRetriever.get_relevant_documents` was deprecated in langchain-core 0.1.46 and will be removed in 1.0. Use :meth:`~invoke` instead.\n",
      "  docs = retriever.get_relevant_documents(question)\n"
     ]
    },
    {
     "name": "stdout",
     "output_type": "stream",
     "text": [
      "Some researchers tried Q-Learning to do sample sel ... https://lilianweng.github.io/posts/2023-03-15-prompt-engineering/\n",
      "Choose examples that are semantically similar to t ... https://lilianweng.github.io/posts/2023-03-15-prompt-engineering/\n",
      "Few-shot CoT. It is to prompt the model with a few ... https://lilianweng.github.io/posts/2023-03-15-prompt-engineering/\n",
      "Text: despite all evidence to the contrary, this c ... https://lilianweng.github.io/posts/2023-03-15-prompt-engineering/\n"
     ]
    }
   ],
   "source": [
    "question = \"What is few-shot learning?\"\n",
    "docs = retriever.get_relevant_documents(question)\n",
    "for doc in docs:\n",
    "    print(doc.page_content[:50], '...', doc.metadata['source'])"
   ]
  },
  {
   "cell_type": "markdown",
   "metadata": {},
   "source": [
    "## Retrieval Grader"
   ]
  },
  {
   "cell_type": "code",
   "execution_count": 6,
   "metadata": {
    "colab": {
     "base_uri": "https://localhost:8080/"
    },
    "id": "MhapNmaowfp-",
    "outputId": "98a6405d-d1bb-49bb-93a1-cb99e4c2636f"
   },
   "outputs": [
    {
     "name": "stdout",
     "output_type": "stream",
     "text": [
      "binary_score='yes' Some researchers tried Q-Learning to do sample sel ... https://lilianweng.github.io/posts/2023-03-15-prompt-engineering/\n",
      "binary_score='no' Choose examples that are semantically similar to t ... https://lilianweng.github.io/posts/2023-03-15-prompt-engineering/\n",
      "binary_score='yes' Few-shot CoT. It is to prompt the model with a few ... https://lilianweng.github.io/posts/2023-03-15-prompt-engineering/\n",
      "binary_score='no' Text: despite all evidence to the contrary, this c ... https://lilianweng.github.io/posts/2023-03-15-prompt-engineering/\n"
     ]
    }
   ],
   "source": [
    "from langchain_core.prompts import ChatPromptTemplate\n",
    "from pydantic import BaseModel, Field\n",
    "from langchain_openai import ChatOpenAI\n",
    "\n",
    "\n",
    "# Data model\n",
    "class GradeDocuments(BaseModel):\n",
    "    \"\"\"Binary score for relevance check on retrieved documents.\"\"\"\n",
    "\n",
    "    binary_score: str = Field(\n",
    "        description=\"Documents are relevant to the question, 'yes' or 'no'\"\n",
    "    )\n",
    "\n",
    "# LLM with structured output\n",
    "llm = ChatOpenAI(model=\"gpt-4o\", temperature=0)\n",
    "structured_llm_grader = llm.with_structured_output(GradeDocuments)\n",
    "\n",
    "\n",
    "# Prompt\n",
    "system = \"\"\"Give a binary score 'yes' or 'no' to indicate whether the document is relevant to the question.\"\"\"\n",
    "grade_prompt = ChatPromptTemplate.from_messages(\n",
    "    [\n",
    "        (\"system\", system),\n",
    "        (\"human\", \"Retrieved document: \\n\\n {document} \\n\\n User question: {question}\"),\n",
    "    ]\n",
    ")\n",
    "\n",
    "retrieval_grader = grade_prompt | structured_llm_grader  # llm + prompt\n",
    "\n",
    "for doc in docs:\n",
    "    doc_txt = doc.page_content\n",
    "    print(retrieval_grader.invoke({\"question\": question, \"document\": doc_txt}), doc_txt[:50], '...', doc.metadata['source'])"
   ]
  },
  {
   "cell_type": "markdown",
   "metadata": {
    "id": "H2X8QeJkxye7"
   },
   "source": [
    "## Generate Compoments"
   ]
  },
  {
   "cell_type": "code",
   "execution_count": 7,
   "metadata": {
    "colab": {
     "base_uri": "https://localhost:8080/"
    },
    "id": "Yfm8E7gvwu3C",
    "outputId": "8d6e0406-b041-448c-eaad-9cefbb745fc0"
   },
   "outputs": [
    {
     "name": "stdout",
     "output_type": "stream",
     "text": [
      "<class 'langchain_core.prompts.chat.HumanMessagePromptTemplate'>\n",
      "You are an assistant for question-answering tasks. Use the following pieces of retrieved context to answer the question. If you don't know the answer, just say that you don't know. Use three sentences maximum and keep the answer concise.\n",
      "Question: {question} \n",
      "Context: {context} \n",
      "Answer:\n",
      "-----\n"
     ]
    },
    {
     "name": "stderr",
     "output_type": "stream",
     "text": [
      "/Users/sinanozdemir/Teaching/Pearson/oreilly-ai-agents/myenv/lib/python3.13/site-packages/langsmith/client.py:280: LangSmithMissingAPIKeyWarning: API key must be provided when using hosted LangSmith API\n",
      "  warnings.warn(\n"
     ]
    }
   ],
   "source": [
    "from langchain import hub\n",
    "from langchain_core.output_parsers import StrOutputParser\n",
    "\n",
    "# Prompt\n",
    "prompt = hub.pull(\"rlm/rag-prompt\")\n",
    "for message in prompt.messages:\n",
    "    print(type(message))\n",
    "    print(message.prompt.template)\n",
    "    print('-----')"
   ]
  },
  {
   "cell_type": "code",
   "execution_count": 8,
   "metadata": {
    "colab": {
     "base_uri": "https://localhost:8080/"
    },
    "id": "bUzV8hwgx0G0",
    "outputId": "78fd6604-2e40-4979-992e-c79323472b8e"
   },
   "outputs": [
    {
     "name": "stdout",
     "output_type": "stream",
     "text": [
      "Few-shot learning is a machine learning approach where a model is trained to perform tasks using only a small number of examples. It often involves providing the model with a few demonstrations or prompts to guide its understanding of the task. This method is particularly useful in scenarios where labeled data is scarce or expensive to obtain.\n"
     ]
    }
   ],
   "source": [
    "# LLM\n",
    "llm = ChatOpenAI(model_name=\"gpt-4o-mini\", temperature=0)\n",
    "\n",
    "# Post-processing\n",
    "def format_docs(docs):\n",
    "    return \"\\n\\n\".join(doc.page_content for doc in docs)\n",
    "\n",
    "# Chain\n",
    "rag_chain = prompt | llm | StrOutputParser()\n",
    "\n",
    "# Run\n",
    "generation = rag_chain.invoke({\"context\": format_docs(docs), \"question\": question})\n",
    "print(generation)"
   ]
  },
  {
   "cell_type": "code",
   "execution_count": null,
   "metadata": {
    "id": "xXf2XKOKz1AW"
   },
   "outputs": [],
   "source": []
  },
  {
   "cell_type": "markdown",
   "metadata": {},
   "source": [
    "## Graph State"
   ]
  },
  {
   "cell_type": "code",
   "execution_count": 9,
   "metadata": {
    "id": "9MlJ26oXzJqw"
   },
   "outputs": [],
   "source": [
    "from typing import List\n",
    "\n",
    "from typing_extensions import TypedDict\n",
    "\n",
    "class GraphState(TypedDict):\n",
    "    \"\"\"\n",
    "    Represents the state of our graph.\n",
    "\n",
    "    Attributes:\n",
    "        question: question\n",
    "        generation: LLM generation\n",
    "        documents: list of documents\n",
    "        something_relevant: if any of the retrieved documents are relevant\n",
    "    \"\"\"\n",
    "\n",
    "    question: str\n",
    "    generation: str\n",
    "    documents: List[str]\n",
    "    something_relevant: bool"
   ]
  },
  {
   "cell_type": "markdown",
   "metadata": {},
   "source": [
    "## The Nodes"
   ]
  },
  {
   "cell_type": "code",
   "execution_count": 10,
   "metadata": {},
   "outputs": [],
   "source": [
    "# from langchain.schema import Document\n",
    "\n",
    "def retrieve(state):\n",
    "    print(state)\n",
    "    \"\"\"\n",
    "    Retrieve documents\n",
    "\n",
    "    Args:\n",
    "        state (dict): The current graph state\n",
    "\n",
    "    Returns:\n",
    "        state (dict): New key added to state, documents, that contains retrieved documents\n",
    "    \"\"\"\n",
    "    print(\"---RETRIEVE---\")\n",
    "    question = state[\"question\"]\n",
    "\n",
    "    # Retrieval\n",
    "    documents = retriever.get_relevant_documents(question)\n",
    "    return {\"documents\": documents}\n",
    "\n",
    "\n",
    "def generate(state):\n",
    "    \"\"\"\n",
    "    Generate answer\n",
    "\n",
    "    Args:\n",
    "        state (dict): The current graph state\n",
    "\n",
    "    Returns:\n",
    "        state (dict): New key added to state, generation, that contains LLM generation\n",
    "    \"\"\"\n",
    "    print(\"---GENERATE---\")\n",
    "    question = state[\"question\"]\n",
    "    documents = state[\"documents\"]\n",
    "\n",
    "    # RAG generation\n",
    "    generation = rag_chain.invoke({\"context\": format_docs(documents), \"question\": question})\n",
    "    return {\"generation\": generation}\n",
    "\n",
    "def grade_documents(state):\n",
    "    \"\"\"\n",
    "    Determines whether the retrieved documents are relevant to the question.\n",
    "\n",
    "    Args:\n",
    "        state (dict): The current graph state\n",
    "\n",
    "    Returns:\n",
    "        state (dict): Updates documents key with only filtered relevant documents\n",
    "    \"\"\"\n",
    "\n",
    "    print(\"---CHECK DOCUMENT RELEVANCE TO QUESTION---\")\n",
    "    question = state[\"question\"]\n",
    "    documents = state[\"documents\"]\n",
    "\n",
    "    # Score each doc\n",
    "    filtered_docs = []\n",
    "    \n",
    "    for d in documents:\n",
    "        score = retrieval_grader.invoke(\n",
    "            {\"question\": question, \"document\": d.page_content}\n",
    "        )\n",
    "        grade = score.binary_score\n",
    "        print(d.metadata['source'], f'Grade: {grade}')\n",
    "        if grade == \"yes\":\n",
    "            print(\"---GRADE: DOCUMENT RELEVANT---\")\n",
    "            filtered_docs.append(d)\n",
    "                \n",
    "    if len(filtered_docs) == 0:\n",
    "        something_relevant = False\n",
    "        print(\"---GRADE: DOCUMENTS NOT RELEVANT---\")\n",
    "    else:\n",
    "        something_relevant = True\n",
    "    return {\"documents\": filtered_docs, \"something_relevant\": something_relevant}\n"
   ]
  },
  {
   "cell_type": "markdown",
   "metadata": {},
   "source": [
    "## Building the Graph"
   ]
  },
  {
   "cell_type": "code",
   "execution_count": 11,
   "metadata": {
    "id": "dE99Sfa-zOvA"
   },
   "outputs": [],
   "source": [
    "from langgraph.graph import END, START, StateGraph\n",
    "\n",
    "workflow = StateGraph(GraphState)\n",
    "\n",
    "# Define nodes\n",
    "workflow.add_node(\"retrieve\", retrieve)\n",
    "workflow.add_node(\"grade_documents\", grade_documents)\n",
    "workflow.add_node(\"generate\", generate)\n",
    "\n",
    "# Build graph\n",
    "workflow.add_edge(START, \"retrieve\")\n",
    "workflow.add_edge(\"retrieve\", \"grade_documents\")\n",
    "\n",
    "# Gating logic\n",
    "def pass_fail_gate(state):\n",
    "    if state[\"something_relevant\"]:\n",
    "        return \"something_relevant\"\n",
    "    return \"nothing_relevant\"\n",
    "\n",
    "workflow.add_conditional_edges(\n",
    "    \"grade_documents\",\n",
    "    pass_fail_gate,\n",
    "    {\n",
    "        \"something_relevant\": \"generate\",\n",
    "        \"nothing_relevant\": END,\n",
    "    },\n",
    ")\n",
    "\n",
    "workflow.add_edge(\"generate\", END)\n",
    "\n",
    "# Compile graph\n",
    "app = workflow.compile()\n"
   ]
  },
  {
   "cell_type": "markdown",
   "metadata": {},
   "source": [
    "## Running the Graph"
   ]
  },
  {
   "cell_type": "code",
   "execution_count": 12,
   "metadata": {},
   "outputs": [],
   "source": [
    "def run_graph_and_get_state(app, inputs: dict):\n",
    "    full_state = dict(inputs)  # seed with initial input\n",
    "\n",
    "    for output in app.stream(inputs):\n",
    "        for key, value in output.items():\n",
    "            print(f\"Node '{key}':\")\n",
    "            full_state.update(value)\n",
    "\n",
    "    print(\"Final generation:\", full_state.get(\"generation\"))\n",
    "    print(\"Documents used:\", len(full_state.get(\"documents\", [])))\n",
    "    return full_state\n"
   ]
  },
  {
   "cell_type": "markdown",
   "metadata": {},
   "source": [
    "### \"What on earth is few shot learning?\""
   ]
  },
  {
   "cell_type": "code",
   "execution_count": 13,
   "metadata": {
    "colab": {
     "base_uri": "https://localhost:8080/"
    },
    "id": "aJ_wjx_M3Db-",
    "outputId": "6ab8e986-702b-4a26-b4ca-74a0ec593d60",
    "scrolled": true
   },
   "outputs": [
    {
     "name": "stdout",
     "output_type": "stream",
     "text": [
      "{'question': 'What on earth is few shot learning?'}\n",
      "---RETRIEVE---\n",
      "Node 'retrieve':\n",
      "---CHECK DOCUMENT RELEVANCE TO QUESTION---\n",
      "https://lilianweng.github.io/posts/2023-03-15-prompt-engineering/ Grade: yes\n",
      "---GRADE: DOCUMENT RELEVANT---\n",
      "https://lilianweng.github.io/posts/2023-03-15-prompt-engineering/ Grade: yes\n",
      "---GRADE: DOCUMENT RELEVANT---\n",
      "https://lilianweng.github.io/posts/2023-03-15-prompt-engineering/ Grade: no\n",
      "https://lilianweng.github.io/posts/2023-03-15-prompt-engineering/ Grade: no\n",
      "Node 'grade_documents':\n",
      "---GENERATE---\n",
      "Node 'generate':\n",
      "Final generation: Few-shot learning is a machine learning approach where a model is trained to perform tasks using only a small number of examples. It often involves providing a few demonstrations in the prompt to help the model understand the task better. This method can be resource-intensive and may limit input length due to token usage.\n",
      "Documents used: 2\n"
     ]
    },
    {
     "data": {
      "text/plain": [
       "{'question': 'What on earth is few shot learning?',\n",
       " 'documents': [Document(metadata={'source': 'https://lilianweng.github.io/posts/2023-03-15-prompt-engineering/', 'id': 'b21a6ba7-b379-4a2f-9aa2-64a25205a3aa', 'description': 'Prompt Engineering, also known as In-Context Prompting, refers to methods for how to communicate with LLM to steer its behavior for desired outcomes without updating the model weights. It is an empirical science and the effect of prompt engineering methods can vary a lot among models, thus requiring heavy experimentation and heuristics.\\nThis post only focuses on prompt engineering for autoregressive language models, so nothing with Cloze tests, image generation or multimodality models. At its core, the goal of prompt engineering is about alignment and model steerability. Check my previous post on controllable text generation.', 'language': 'en', 'title': \"Prompt Engineering | Lil'Log\"}, page_content='Some researchers tried Q-Learning to do sample selection. (Zhang et al. 2022)\\n\\n\\nMotivated by uncertainty-based active learning, Diao et al. (2023) suggested to identify examples with high disagreement or entropy among multiple sampling trials. Then annotate these examples to be used in few-shot prompts.\\n\\n\\nTips for Example Ordering#\\n\\nA general suggestion is to keep the selection of examples diverse, relevant to the test sample and in random order to avoid majority label bias and recency bias.\\nIncreasing model sizes or including more training examples does not reduce variance among different permutations of in-context examples. Same order may work well for one model but badly for another. When the validation set is limited, consider choosing the order such that the model does not produce extremely unbalanced predictions or being overconfident about its predictions. (Lu et al. 2022)\\n\\nInstruction Prompting#\\nThe purpose of presenting few-shot examples in the prompt is to explain our intent to the model; in other words, describe the task instruction to the model in the form of demonstrations. However, few-shot can be expensive in terms of token usage and restricts the input length due to limited context length. So, why not just give the instruction directly?\\nInstructed LM (e.g. InstructGPT, natural instruction) finetunes a pretrained model with high-quality tuples of (task instruction, input, ground truth output) to make LM better understand user intention and follow instruction. RLHF (Reinforcement Learning from Human Feedback) is a common method to do so. The benefit of instruction following style fine-tuning improves the model to be more aligned with human intention and greatly reduces the cost of communication.\\nWhen interacting with instruction models, we should describe the task requirement in details, trying to be specific and precise and avoiding say “not do something” but rather specify what to do.\\nPlease label the sentiment towards the movie of the given movie review. The sentiment label should be \"positive\" or \"negative\". \\nText: i\\'ll bet the video game is a lot more fun than the film. \\nSentiment:\\nExplaining the desired audience is another smart way to give instructions\\n\\nFor example to produce education materials for kids,\\n\\nDescribe what is quantum physics to a 6-year-old.\\n\\nAnd safe content,'),\n",
       "  Document(metadata={'source': 'https://lilianweng.github.io/posts/2023-03-15-prompt-engineering/', 'id': 'a658cb5c-4dab-4acc-8b1e-e99dd704d318', 'title': \"Prompt Engineering | Lil'Log\", 'language': 'en', 'description': 'Prompt Engineering, also known as In-Context Prompting, refers to methods for how to communicate with LLM to steer its behavior for desired outcomes without updating the model weights. It is an empirical science and the effect of prompt engineering methods can vary a lot among models, thus requiring heavy experimentation and heuristics.\\nThis post only focuses on prompt engineering for autoregressive language models, so nothing with Cloze tests, image generation or multimodality models. At its core, the goal of prompt engineering is about alignment and model steerability. Check my previous post on controllable text generation.'}, page_content=\"Few-shot CoT. It is to prompt the model with a few demonstrations, each containing manually written (or model-generated) high-quality reasoning chains.\\n\\n(All the math reasoning examples are from GSM8k)\\nQuestion: Tom and Elizabeth have a competition to climb a hill. Elizabeth takes 30 minutes to climb the hill. Tom takes four times as long as Elizabeth does to climb the hill. How many hours does it take Tom to climb up the hill?\\nAnswer: It takes Tom 30*4 = <<30*4=120>>120 minutes to climb the hill.\\nIt takes Tom 120/60 = <<120/60=2>>2 hours to climb the hill.\\nSo the answer is 2.\\n===\\nQuestion: Jack is a soccer player. He needs to buy two pairs of socks and a pair of soccer shoes. Each pair of socks cost $9.50, and the shoes cost $92. Jack has $40. How much more money does Jack need?\\nAnswer: The total cost of two pairs of socks is $9.50 x 2 = $<<9.5*2=19>>19.\\nThe total cost of the socks and the shoes is $19 + $92 = $<<19+92=111>>111.\\nJack need $111 - $40 = $<<111-40=71>>71 more.\\nSo the answer is 71.\\n===\\nQuestion: Marty has 100 centimeters of ribbon that he must cut into 4 equal parts. Each of the cut parts must be divided into 5 equal parts. How long will each final cut be?\\nAnswer:\\n\\nZero-shot CoT. Use natural language statement like Let's think step by step to explicitly encourage the model to first generate reasoning chains and then to prompt with Therefore, the answer is to produce answers (Kojima et al. 2022 ). Or a similar statement Let's work this out it a step by step to be sure we have the right answer (Zhou et al. 2022).\\n\\nQuestion: Marty has 100 centimeters of ribbon that he must cut into 4 equal parts. Each of the cut parts must be divided into 5 equal parts. How long will each final cut be?\\nAnswer: Let's think step by step.\\nTips and Extensions#\\n\\n\\nSelf-consistency sampling can improve reasoning accuracy by sampling a number of diverse answers and then taking the majority vote. (Wang et al. 2022a)\")],\n",
       " 'something_relevant': True,\n",
       " 'generation': 'Few-shot learning is a machine learning approach where a model is trained to perform tasks using only a small number of examples. It often involves providing a few demonstrations in the prompt to help the model understand the task better. This method can be resource-intensive and may limit input length due to token usage.'}"
      ]
     },
     "execution_count": 13,
     "metadata": {},
     "output_type": "execute_result"
    }
   ],
   "source": [
    "run_graph_and_get_state(app, {\"question\": \"What on earth is few shot learning?\"})"
   ]
  },
  {
   "cell_type": "markdown",
   "metadata": {},
   "source": [
    "### \"How to make good inputs to AI?\""
   ]
  },
  {
   "cell_type": "code",
   "execution_count": 14,
   "metadata": {
    "colab": {
     "base_uri": "https://localhost:8080/"
    },
    "id": "qPsnn1CG5QHG",
    "outputId": "8f9299f3-22d4-4101-e7dc-9dbecdd84fea",
    "scrolled": true
   },
   "outputs": [
    {
     "name": "stdout",
     "output_type": "stream",
     "text": [
      "{'question': 'How to make good inputs to AI?'}\n",
      "---RETRIEVE---\n",
      "Node 'retrieve':\n",
      "---CHECK DOCUMENT RELEVANCE TO QUESTION---\n",
      "https://lilianweng.github.io/posts/2023-06-23-agent/ Grade: no\n",
      "https://lilianweng.github.io/posts/2023-06-23-agent/ Grade: no\n",
      "https://lilianweng.github.io/posts/2023-06-23-agent/ Grade: no\n",
      "https://lilianweng.github.io/posts/2023-03-15-prompt-engineering/ Grade: no\n",
      "---GRADE: DOCUMENTS NOT RELEVANT---\n",
      "Node 'grade_documents':\n",
      "Final generation: None\n",
      "Documents used: 0\n"
     ]
    },
    {
     "data": {
      "text/plain": [
       "{'question': 'How to make good inputs to AI?',\n",
       " 'documents': [],\n",
       " 'something_relevant': False}"
      ]
     },
     "execution_count": 14,
     "metadata": {},
     "output_type": "execute_result"
    }
   ],
   "source": [
    "run_graph_and_get_state(app, {\"question\": \"How to make good inputs to AI?\"})"
   ]
  },
  {
   "cell_type": "markdown",
   "metadata": {},
   "source": [
    "### \"How big is the moon?\""
   ]
  },
  {
   "cell_type": "code",
   "execution_count": 15,
   "metadata": {
    "colab": {
     "base_uri": "https://localhost:8080/"
    },
    "id": "0J0TtIcb0CYf",
    "outputId": "ebe8c55a-a6a1-47d3-bd87-194d2a972d8a"
   },
   "outputs": [
    {
     "name": "stdout",
     "output_type": "stream",
     "text": [
      "{'question': 'How big is the moon?'}\n",
      "---RETRIEVE---\n",
      "Node 'retrieve':\n",
      "---CHECK DOCUMENT RELEVANCE TO QUESTION---\n",
      "https://lilianweng.github.io/posts/2023-06-23-agent/ Grade: no\n",
      "https://lilianweng.github.io/posts/2023-03-15-prompt-engineering/ Grade: no\n",
      "https://lilianweng.github.io/posts/2023-06-23-agent/ Grade: no\n",
      "https://lilianweng.github.io/posts/2023-06-23-agent/ Grade: no\n",
      "---GRADE: DOCUMENTS NOT RELEVANT---\n",
      "Node 'grade_documents':\n",
      "Final generation: None\n",
      "Documents used: 0\n"
     ]
    },
    {
     "data": {
      "text/plain": [
       "{'question': 'How big is the moon?',\n",
       " 'documents': [],\n",
       " 'something_relevant': False}"
      ]
     },
     "execution_count": 15,
     "metadata": {},
     "output_type": "execute_result"
    }
   ],
   "source": [
    "run_graph_and_get_state(app, {\"question\": \"How big is the moon?\"})"
   ]
  },
  {
   "cell_type": "markdown",
   "metadata": {},
   "source": [
    "## Visualize the Graph"
   ]
  },
  {
   "cell_type": "code",
   "execution_count": 16,
   "metadata": {},
   "outputs": [
    {
     "data": {
      "image/png": "[encoded data removed]",
      "text/plain": [
       "<IPython.core.display.Image object>"
      ]
     },
     "metadata": {},
     "output_type": "display_data"
    }
   ],
   "source": [
    "# Visualize our graph\n",
    "from IPython.display import Image, display\n",
    "for i in range(100):\n",
    "    try:\n",
    "        display(Image(app.get_graph().draw_mermaid_png()))\n",
    "        break\n",
    "    except Exception:\n",
    "        pass"
   ]
  },
  {
   "cell_type": "code",
   "execution_count": 17,
   "metadata": {},
   "outputs": [
    {
     "name": "stdout",
     "output_type": "stream",
     "text": [
      "           +-----------+       \n",
      "           | __start__ |       \n",
      "           +-----------+       \n",
      "                  *            \n",
      "                  *            \n",
      "                  *            \n",
      "            +----------+       \n",
      "            | retrieve |       \n",
      "            +----------+       \n",
      "                  *            \n",
      "                  *            \n",
      "                  *            \n",
      "        +-----------------+    \n",
      "        | grade_documents |    \n",
      "        +-----------------+    \n",
      "           ...        ...      \n",
      "          .              .     \n",
      "        ..                ...  \n",
      "+----------+                 . \n",
      "| generate |              ...  \n",
      "+----------+             .     \n",
      "           ***        ...      \n",
      "              *      .         \n",
      "               **  ..          \n",
      "            +---------+        \n",
      "            | __end__ |        \n",
      "            +---------+        \n"
     ]
    }
   ],
   "source": [
    "# if the above fails try this (requires grandalf)\n",
    "\n",
    "print(app.get_graph().draw_ascii())"
   ]
  },
  {
   "cell_type": "code",
   "execution_count": null,
   "metadata": {},
   "outputs": [],
   "source": []
  },
  {
   "cell_type": "code",
   "execution_count": null,
   "metadata": {},
   "outputs": [],
   "source": []
  },
  {
   "cell_type": "markdown",
   "metadata": {},
   "source": [
    "# Testing our Components"
   ]
  },
  {
   "cell_type": "markdown",
   "metadata": {},
   "source": [
    "## Creating Synthetic Questions"
   ]
  },
  {
   "cell_type": "code",
   "execution_count": 18,
   "metadata": {},
   "outputs": [],
   "source": [
    "from langchain_core.prompts import ChatPromptTemplate\n",
    "from langchain_openai import ChatOpenAI\n",
    "from pydantic import BaseModel, Field\n",
    "\n",
    "class MultihopOutput(BaseModel):\n",
    "    fact1: str = Field(description=\"A fact found in document 1.\")\n",
    "    fact2: str = Field(description=\"A fact found in document 2.\")\n",
    "    multihop_question: str = Field(description=\"A question that requires both facts to answer.\")\n",
    "    multihop_answer: str = Field(description=\"The answer to the question that requires both facts to answer.\")\n",
    "    status: str = Field(description='\"verified\" if the question/answer are valid. \"unverified\" otherwise')\n",
    "\n",
    "# LLM setup\n",
    "llm = ChatOpenAI(model=\"gpt-4o\", temperature=0.7).with_structured_output(MultihopOutput)\n",
    "prompt = ChatPromptTemplate.from_messages([\n",
    "    (\"system\", \"You're a question synthesizer for multihop QA datasets.\"),\n",
    "    (\"human\", \n",
    "     \"Document 1:\\n{doc1}\\n\\nDocument 2:\\n{doc2}\\n\\n\"\n",
    "     \"1. First, give one stand-alone factual statement (requiring only the given document) from each document.\\n\"\n",
    "     \"2. Then, write one multihop question that requires *both* facts to answer.\\n\"\n",
    "     \"3. Then, write the answer to this question.\\n\"\n",
    "     \"4. Finally, Output \\\"verified\\\" if the question/answer are sensical given the context, and \\\"unverified\\\" otherwise.\"\n",
    "     \n",
    "     )\n",
    "])\n",
    "\n",
    "chain = prompt | llm\n"
   ]
  },
  {
   "cell_type": "code",
   "execution_count": 19,
   "metadata": {},
   "outputs": [],
   "source": [
    "import random\n",
    "\n",
    "def get_two_random_docs_with_ids(vectorstore):\n",
    "    # Fetch documents, IDs come automatically (no include needed)\n",
    "    result = vectorstore._collection.get(include=[\"documents\", \"metadatas\"])  # works\n",
    "    docs = result[\"documents\"]\n",
    "    ids = [m['id'] for m in result[\"metadatas\"]]\n",
    "    \n",
    "    paired = list(zip(ids, docs))\n",
    "    sampled = random.sample(paired, 2)\n",
    "    \n",
    "    return [{\"id\": id_, \"text\": doc} for id_, doc in sampled]\n"
   ]
  },
  {
   "cell_type": "code",
   "execution_count": 20,
   "metadata": {},
   "outputs": [],
   "source": [
    "def generate_multihop_question(vectorstore):\n",
    "    doc_output = get_two_random_docs_with_ids(vectorstore)\n",
    "    synthetic_output = chain.invoke({\n",
    "        \"doc1\": doc_output[0]['text'],\n",
    "        \"doc2\": doc_output[1]['text'],\n",
    "    })\n",
    "    return synthetic_output, [doc_output[0]['id'], doc_output[1]['id']]\n"
   ]
  },
  {
   "cell_type": "code",
   "execution_count": 41,
   "metadata": {
    "scrolled": true
   },
   "outputs": [
    {
     "data": {
      "text/plain": [
       "(MultihopOutput(fact1='Zero-shot learning involves feeding the task text to the model and asking for results, without providing any examples.', fact2='Current agent systems rely on natural language as an interface between LLMs and external components, but the reliability of model outputs is questionable due to potential formatting errors and rebellious behavior.', multihop_question='How does zero-shot learning in prompt engineering relate to the reliability concerns of natural language interfaces in agent systems?', multihop_answer='Zero-shot learning involves providing task text without examples, which can exacerbate reliability concerns in natural language interfaces since the model may not have prior examples to ensure accurate or correctly formatted outputs, increasing the chance of errors or rebellious behavior.', status='verified'),\n",
       " ['45006fe3-7c03-43eb-8afd-bfeeaba94143',\n",
       "  '07817322-609d-4d7b-bfab-408315f44429'])"
      ]
     },
     "execution_count": 41,
     "metadata": {},
     "output_type": "execute_result"
    }
   ],
   "source": [
    "multi_hop_synthetic_question, docs = generate_multihop_question(vectorstore)\n",
    "multi_hop_synthetic_question"
   ]
  },
  {
   "cell_type": "code",
   "execution_count": 52,
   "metadata": {},
   "outputs": [
    {
     "name": "stdout",
     "output_type": "stream",
     "text": [
      "Fact 1: Zero-shot learning involves feeding the task text to the model and asking for results, without providing any examples.\n",
      "Document 1: 45006fe3-7c03-43eb-8afd-bfeeaba94143\n",
      "-----\n",
      "Fact 2: Current agent systems rely on natural language as an interface between LLMs and external components, but the reliability of model outputs is questionable due to potential formatting errors and rebellious behavior.\n",
      "Document 2: 07817322-609d-4d7b-bfab-408315f44429\n",
      "-----\n",
      "Question: How does zero-shot learning in prompt engineering relate to the reliability concerns of natural language interfaces in agent systems?\n",
      "Probable Answer: Zero-shot learning involves providing task text without examples, which can exacerbate reliability concerns in natural language interfaces since the model may not have prior examples to ensure accurate or correctly formatted outputs, increasing the chance of errors or rebellious behavior.\n"
     ]
    }
   ],
   "source": [
    "print(f\"Fact 1: {multi_hop_synthetic_question.fact1}\")\n",
    "print(f\"Document 1: {docs[0]}\")\n",
    "print('-----')\n",
    "print(f\"Fact 2: {multi_hop_synthetic_question.fact2}\")\n",
    "print(f\"Document 2: {docs[1]}\")\n",
    "print('-----')\n",
    "print(f\"Question: {multi_hop_synthetic_question.multihop_question}\")\n",
    "print(f\"Probable Answer: {multi_hop_synthetic_question.multihop_answer}\")"
   ]
  },
  {
   "cell_type": "code",
   "execution_count": 22,
   "metadata": {},
   "outputs": [
    {
     "name": "stderr",
     "output_type": "stream",
     "text": [
      "100%|████████████████████████████████████████████████████████████████████████████████████████████████████████████████████████████████████████████████████████████████| 100/100 [04:36<00:00,  2.76s/it]\n"
     ]
    }
   ],
   "source": [
    "from tqdm import tqdm\n",
    "multihop_examples = []\n",
    "\n",
    "for _ in tqdm(range(100)):\n",
    "    try:\n",
    "        output, ids = generate_multihop_question(vectorstore)\n",
    "        result = {\n",
    "            \"fact1\": output.fact1,\n",
    "            \"fact2\": output.fact2,\n",
    "            \"multihop_question\": output.multihop_question,\n",
    "            \"multihop_answer\": output.multihop_answer,\n",
    "            \"status\": output.status,\n",
    "            \"doc1\": ids[0],\n",
    "            \"doc2\": ids[1]\n",
    "        }\n",
    "        multihop_examples.append(result)\n",
    "    except Exception as e:\n",
    "        print(f\"Failed on iteration with error: {e}\")\n"
   ]
  },
  {
   "cell_type": "code",
   "execution_count": 23,
   "metadata": {},
   "outputs": [
    {
     "data": {
      "text/html": [
       "<div>\n",
       "<style scoped>\n",
       "    .dataframe tbody tr th:only-of-type {\n",
       "        vertical-align: middle;\n",
       "    }\n",
       "\n",
       "    .dataframe tbody tr th {\n",
       "        vertical-align: top;\n",
       "    }\n",
       "\n",
       "    .dataframe thead th {\n",
       "        text-align: right;\n",
       "    }\n",
       "</style>\n",
       "<table border=\"1\" class=\"dataframe\">\n",
       "  <thead>\n",
       "    <tr style=\"text-align: right;\">\n",
       "      <th></th>\n",
       "      <th>fact1</th>\n",
       "      <th>fact2</th>\n",
       "      <th>multihop_question</th>\n",
       "      <th>multihop_answer</th>\n",
       "      <th>status</th>\n",
       "      <th>doc1</th>\n",
       "      <th>doc2</th>\n",
       "    </tr>\n",
       "  </thead>\n",
       "  <tbody>\n",
       "    <tr>\n",
       "      <th>0</th>\n",
       "      <td>The agent learns to call external APIs for ext...</td>\n",
       "      <td>The most common way to mitigate risks of adver...</td>\n",
       "      <td>How can an agent enhance its capability to han...</td>\n",
       "      <td>An agent can enhance its capability to handle ...</td>\n",
       "      <td>verified</td>\n",
       "      <td>98fe49c9-c33c-495c-924c-f29793030887</td>\n",
       "      <td>0fa3a5ac-f2a9-4c10-9672-d790be5e8be8</td>\n",
       "    </tr>\n",
       "    <tr>\n",
       "      <th>1</th>\n",
       "      <td>Document 1 mentions that adversarial attacks a...</td>\n",
       "      <td>Document 2 describes an optimization technique...</td>\n",
       "      <td>What method is used to improve the performance...</td>\n",
       "      <td>The ARCA method, which maximizes the log-likel...</td>\n",
       "      <td>verified</td>\n",
       "      <td>9e55ea56-328e-43f7-b99e-0ff8e7c30a84</td>\n",
       "      <td>311c7373-92c1-410e-b246-065a9244e14e</td>\n",
       "    </tr>\n",
       "    <tr>\n",
       "      <th>2</th>\n",
       "      <td>FAISS applies vector quantization by partition...</td>\n",
       "      <td>Reflexion is a framework to equip agents with ...</td>\n",
       "      <td>How does FAISS's approach to vector quantizati...</td>\n",
       "      <td>FAISS's approach to vector quantization by ref...</td>\n",
       "      <td>verified</td>\n",
       "      <td>96716e56-81b7-4047-a9cb-989bdd8aa452</td>\n",
       "      <td>27d679b8-f9bc-4c80-9c2c-4f9162150e95</td>\n",
       "    </tr>\n",
       "    <tr>\n",
       "      <th>3</th>\n",
       "      <td>The architecture implementation process involv...</td>\n",
       "      <td>API calls are filtered based on their ability ...</td>\n",
       "      <td>How does the architecture implementation proce...</td>\n",
       "      <td>The architecture implementation process ensure...</td>\n",
       "      <td>verified</td>\n",
       "      <td>0a003a63-67cb-47a8-989c-32bec89c98fb</td>\n",
       "      <td>c44f0348-e3e0-47b3-a8ec-e082dd493531</td>\n",
       "    </tr>\n",
       "    <tr>\n",
       "      <th>4</th>\n",
       "      <td>AutoPrompt uses a gradient-based search strate...</td>\n",
       "      <td>The document mentions terms like NLP, Language...</td>\n",
       "      <td>What search strategy does AutoPrompt use that ...</td>\n",
       "      <td>AutoPrompt uses a gradient-based search strate...</td>\n",
       "      <td>verified</td>\n",
       "      <td>9bae6291-afac-4081-837f-a4e3205ee638</td>\n",
       "      <td>73b8af8a-7b7d-4e39-b869-3c73b6336158</td>\n",
       "    </tr>\n",
       "  </tbody>\n",
       "</table>\n",
       "</div>"
      ],
      "text/plain": [
       "                                               fact1  \\\n",
       "0  The agent learns to call external APIs for ext...   \n",
       "1  Document 1 mentions that adversarial attacks a...   \n",
       "2  FAISS applies vector quantization by partition...   \n",
       "3  The architecture implementation process involv...   \n",
       "4  AutoPrompt uses a gradient-based search strate...   \n",
       "\n",
       "                                               fact2  \\\n",
       "0  The most common way to mitigate risks of adver...   \n",
       "1  Document 2 describes an optimization technique...   \n",
       "2  Reflexion is a framework to equip agents with ...   \n",
       "3  API calls are filtered based on their ability ...   \n",
       "4  The document mentions terms like NLP, Language...   \n",
       "\n",
       "                                   multihop_question  \\\n",
       "0  How can an agent enhance its capability to han...   \n",
       "1  What method is used to improve the performance...   \n",
       "2  How does FAISS's approach to vector quantizati...   \n",
       "3  How does the architecture implementation proce...   \n",
       "4  What search strategy does AutoPrompt use that ...   \n",
       "\n",
       "                                     multihop_answer    status  \\\n",
       "0  An agent can enhance its capability to handle ...  verified   \n",
       "1  The ARCA method, which maximizes the log-likel...  verified   \n",
       "2  FAISS's approach to vector quantization by ref...  verified   \n",
       "3  The architecture implementation process ensure...  verified   \n",
       "4  AutoPrompt uses a gradient-based search strate...  verified   \n",
       "\n",
       "                                   doc1                                  doc2  \n",
       "0  98fe49c9-c33c-495c-924c-f29793030887  0fa3a5ac-f2a9-4c10-9672-d790be5e8be8  \n",
       "1  9e55ea56-328e-43f7-b99e-0ff8e7c30a84  311c7373-92c1-410e-b246-065a9244e14e  \n",
       "2  96716e56-81b7-4047-a9cb-989bdd8aa452  27d679b8-f9bc-4c80-9c2c-4f9162150e95  \n",
       "3  0a003a63-67cb-47a8-989c-32bec89c98fb  c44f0348-e3e0-47b3-a8ec-e082dd493531  \n",
       "4  9bae6291-afac-4081-837f-a4e3205ee638  73b8af8a-7b7d-4e39-b869-3c73b6336158  "
      ]
     },
     "execution_count": 23,
     "metadata": {},
     "output_type": "execute_result"
    }
   ],
   "source": [
    "import pandas as pd\n",
    "\n",
    "synthetic_df = pd.DataFrame(multihop_examples)\n",
    "synthetic_df.head()"
   ]
  },
  {
   "cell_type": "code",
   "execution_count": 24,
   "metadata": {},
   "outputs": [
    {
     "data": {
      "text/plain": [
       "<Axes: xlabel='status'>"
      ]
     },
     "execution_count": 24,
     "metadata": {},
     "output_type": "execute_result"
    },
    {
     "data": {
      "image/png": "[encoded data removed]",
      "text/plain": [
       "<Figure size 640x480 with 1 Axes>"
      ]
     },
     "metadata": {},
     "output_type": "display_data"
    }
   ],
   "source": [
    "synthetic_df['status'].value_counts().plot(kind='bar')"
   ]
  },
  {
   "cell_type": "markdown",
   "metadata": {},
   "source": [
    "## Grade our retriever + grader"
   ]
  },
  {
   "cell_type": "code",
   "execution_count": 25,
   "metadata": {},
   "outputs": [],
   "source": [
    "synthetic_df = synthetic_df[synthetic_df['status'] == 'verified']"
   ]
  },
  {
   "cell_type": "code",
   "execution_count": 26,
   "metadata": {},
   "outputs": [],
   "source": [
    "def grade_retrieval_for_row(row, retriever, retrieval_grader):\n",
    "    question = row[\"multihop_question\"]\n",
    "    true_ids = set([row[\"doc1\"], row[\"doc2\"]])\n",
    "    \n",
    "    try:\n",
    "        retrieved_docs = retriever.get_relevant_documents(question)\n",
    "    except Exception as e:\n",
    "        return {\"error\": str(e), \"graded_docs\": []}\n",
    "    graded_docs = []\n",
    "    retrieved_ids = set([doc.metadata.get(\"id\") for doc in retrieved_docs])\n",
    "    num_correct_documents_retrieved = len(true_ids & retrieved_ids)\n",
    "    for doc in retrieved_docs:\n",
    "        doc_id = doc.metadata.get(\"id\")\n",
    "        if not doc_id:\n",
    "            continue\n",
    "        score = retrieval_grader.invoke({\n",
    "            \"question\": question,\n",
    "            \"document\": doc.page_content\n",
    "        })\n",
    "        graded_docs.append({\n",
    "            \"doc_id\": doc_id,\n",
    "            \"relevant_predicted\": score.binary_score == 'yes',\n",
    "            \"relevant_actual\": doc_id in true_ids\n",
    "        })\n",
    "\n",
    "    return {\n",
    "        \"question\": question,\n",
    "        \"graded_docs\": graded_docs,\n",
    "        \"num_correct_documents_retrieved\": num_correct_documents_retrieved\n",
    "    }\n"
   ]
  },
  {
   "cell_type": "code",
   "execution_count": 27,
   "metadata": {
    "scrolled": true
   },
   "outputs": [],
   "source": [
    "graded_results = []\n",
    "\n",
    "for _, row in synthetic_df.iterrows():\n",
    "    result = grade_retrieval_for_row(row, retriever, retrieval_grader)\n",
    "    graded_results.append(result)\n"
   ]
  },
  {
   "cell_type": "code",
   "execution_count": 28,
   "metadata": {},
   "outputs": [
    {
     "data": {
      "text/plain": [
       "{'question': 'How can an agent enhance its capability to handle adversarial attacks using external information?',\n",
       " 'graded_docs': [{'doc_id': '0fa3a5ac-f2a9-4c10-9672-d790be5e8be8',\n",
       "   'relevant_predicted': False,\n",
       "   'relevant_actual': True},\n",
       "  {'doc_id': '30f273da-5f07-4d85-a442-d636f27c02a5',\n",
       "   'relevant_predicted': False,\n",
       "   'relevant_actual': False},\n",
       "  {'doc_id': '4776eaf5-4b05-4437-bdfd-c7769c1031a9',\n",
       "   'relevant_predicted': False,\n",
       "   'relevant_actual': False},\n",
       "  {'doc_id': 'ccff528d-6156-499a-ba87-daba791dad7d',\n",
       "   'relevant_predicted': False,\n",
       "   'relevant_actual': False}],\n",
       " 'num_correct_documents_retrieved': 1}"
      ]
     },
     "execution_count": 28,
     "metadata": {},
     "output_type": "execute_result"
    }
   ],
   "source": [
    "graded_results[0]"
   ]
  },
  {
   "cell_type": "code",
   "execution_count": 29,
   "metadata": {},
   "outputs": [],
   "source": [
    "def evaluate_grader_outputs(results):\n",
    "    TP = FP = FN = TN = 0\n",
    "\n",
    "    for row in results:\n",
    "        for doc in row[\"graded_docs\"]:\n",
    "            actual = doc[\"relevant_actual\"]\n",
    "            predicted = doc[\"relevant_predicted\"]\n",
    "\n",
    "            if actual and predicted:\n",
    "                TP += 1\n",
    "            elif actual and not predicted:\n",
    "                FN += 1\n",
    "            elif not actual and predicted:\n",
    "                FP += 1\n",
    "            else:\n",
    "                TN += 1\n",
    "\n",
    "    precision = TP / (TP + FP) if (TP + FP) > 0 else 0\n",
    "    recall = TP / (TP + FN) if (TP + FN) > 0 else 0\n",
    "    accuracy = (TP + TN) / (TP + FP + FN + TN) if (TP + FP + FN + TN) > 0 else 0\n",
    "    f1 = (2 * precision * recall) / (precision + recall) if (precision + recall) > 0 else 0\n",
    "    tpr = recall\n",
    "    fpr = FP / (FP + TN) if (FP + TN) > 0 else 0\n",
    "\n",
    "    return {\n",
    "        \"true_positives\": TP,\n",
    "        \"false_positives\": FP,\n",
    "        \"false_negatives\": FN,\n",
    "        \"true_negatives\": TN,\n",
    "        \"precision\": precision,\n",
    "        \"recall\": recall,\n",
    "        \"accuracy\": accuracy,\n",
    "        \"f1_score\": f1,\n",
    "        \"true_positive_rate\": tpr,\n",
    "        \"false_positive_rate\": fpr,\n",
    "    }\n",
    "\n",
    "metrics = evaluate_grader_outputs(graded_results)\n",
    "evaluation = {}\n",
    "for k, v in metrics.items():\n",
    "    evaluation[k] = v\n"
   ]
  },
  {
   "cell_type": "code",
   "execution_count": 30,
   "metadata": {},
   "outputs": [
    {
     "data": {
      "text/plain": [
       "{'true_positives': 40,\n",
       " 'false_positives': 76,\n",
       " 'false_negatives': 70,\n",
       " 'true_negatives': 210,\n",
       " 'precision': 0.3448275862068966,\n",
       " 'recall': 0.36363636363636365,\n",
       " 'accuracy': 0.6313131313131313,\n",
       " 'f1_score': 0.3539823008849558,\n",
       " 'true_positive_rate': 0.36363636363636365,\n",
       " 'false_positive_rate': 0.26573426573426573}"
      ]
     },
     "execution_count": 30,
     "metadata": {},
     "output_type": "execute_result"
    }
   ],
   "source": [
    "evaluation"
   ]
  },
  {
   "cell_type": "code",
   "execution_count": 31,
   "metadata": {},
   "outputs": [
    {
     "name": "stderr",
     "output_type": "stream",
     "text": [
      "/var/folders/y9/9xqbqkg90tnc0cmm0dxt985m0000gn/T/ipykernel_67912/237238012.py:20: FutureWarning: \n",
      "\n",
      "Passing `palette` without assigning `hue` is deprecated and will be removed in v0.14.0. Assign the `x` variable to `hue` and set `legend=False` for the same effect.\n",
      "\n",
      "  sns.barplot(x=metrics_to_plot, y=values, ax=ax, palette=\"viridis\")\n",
      "/var/folders/y9/9xqbqkg90tnc0cmm0dxt985m0000gn/T/ipykernel_67912/237238012.py:24: UserWarning: set_ticklabels() should only be used with a fixed number of ticks, i.e. after set_ticks() or using a FixedLocator.\n",
      "  ax.set_xticklabels(metrics_to_plot, rotation=45, ha=\"right\")  # Tilt x-axis labels\n"
     ]
    },
    {
     "data": {
      "image/png": "[encoded data removed]",
      "text/plain": [
       "<Figure size 500x400 with 2 Axes>"
      ]
     },
     "metadata": {},
     "output_type": "display_data"
    },
    {
     "data": {
      "image/png": "[encoded data removed]",
      "text/plain": [
       "<Figure size 800x500 with 1 Axes>"
      ]
     },
     "metadata": {},
     "output_type": "display_data"
    }
   ],
   "source": [
    "import matplotlib.pyplot as plt\n",
    "import seaborn as sns\n",
    "from sklearn.metrics import confusion_matrix, ConfusionMatrixDisplay\n",
    "\n",
    "def plot_eval(evaluation):\n",
    "    # Confusion matrix\n",
    "    labels = [\"Relevant\", \"Not Relevant\"]\n",
    "    y_true = [1]*evaluation[\"true_positives\"] + [1]*evaluation[\"false_negatives\"] + [0]*evaluation[\"false_positives\"] + [0]*evaluation[\"true_negatives\"]\n",
    "    y_pred = [1]*evaluation[\"true_positives\"] + [0]*evaluation[\"false_negatives\"] + [1]*evaluation[\"false_positives\"] + [0]*evaluation[\"true_negatives\"]\n",
    "    \n",
    "    fig1, ax1 = plt.subplots(figsize=(5, 4))\n",
    "    cm = confusion_matrix(y_true, y_pred)\n",
    "    disp = ConfusionMatrixDisplay(confusion_matrix=cm, display_labels=labels)\n",
    "    disp.plot(ax=ax1, cmap=\"Blues\", values_format=\"d\")\n",
    "    ax1.set_title(\"Confusion Matrix\")\n",
    "    # Re-plot the bar chart with tilted x-axis labels\n",
    "    fig, ax = plt.subplots(figsize=(8, 5))\n",
    "    metrics_to_plot = [\"precision\", \"recall\", \"accuracy\", \"f1_score\", \"true_positive_rate\", \"false_positive_rate\"]\n",
    "    values = [evaluation[k] for k in metrics_to_plot]\n",
    "    sns.barplot(x=metrics_to_plot, y=values, ax=ax, palette=\"viridis\")\n",
    "    ax.set_title(\"Evaluation Metrics\")\n",
    "    ax.set_ylabel(\"Score\")\n",
    "    ax.set_ylim(0, 1)\n",
    "    ax.set_xticklabels(metrics_to_plot, rotation=45, ha=\"right\")  # Tilt x-axis labels\n",
    "    for i, v in enumerate(values):\n",
    "        ax.text(i, v + 0.02, f\"{v:.2f}\", ha=\"center\")\n",
    "    \n",
    "    plt.tight_layout()\n",
    "    plt.show()\n",
    "\n",
    "plot_eval(evaluation)"
   ]
  },
  {
   "cell_type": "markdown",
   "metadata": {},
   "source": [
    "## Try a different embedder"
   ]
  },
  {
   "cell_type": "code",
   "execution_count": 32,
   "metadata": {
    "scrolled": true
   },
   "outputs": [
    {
     "name": "stderr",
     "output_type": "stream",
     "text": [
      "/var/folders/y9/9xqbqkg90tnc0cmm0dxt985m0000gn/T/ipykernel_67912/750963962.py:7: LangChainDeprecationWarning: The class `HuggingFaceEmbeddings` was deprecated in LangChain 0.2.2 and will be removed in 1.0. An updated version of the class exists in the :class:`~langchain-huggingface package and should be used instead. To use it run `pip install -U :class:`~langchain-huggingface` and import as `from :class:`~langchain_huggingface import HuggingFaceEmbeddings``.\n",
      "  embedding_fn = HuggingFaceEmbeddings(model_name=\"sentence-transformers/all-mpnet-base-v2\")\n",
      "/Users/sinanozdemir/Teaching/Pearson/oreilly-ai-agents/myenv/lib/python3.13/site-packages/tqdm/auto.py:21: TqdmWarning: IProgress not found. Please update jupyter and ipywidgets. See https://ipywidgets.readthedocs.io/en/stable/user_install.html\n",
      "  from .autonotebook import tqdm as notebook_tqdm\n"
     ]
    }
   ],
   "source": [
    "from langchain_openai import OpenAIEmbeddings\n",
    "from langchain_community.embeddings import HuggingFaceEmbeddings\n",
    "\n",
    "# Example: Using a better OpenAI model\n",
    "# embedding_fn = OpenAIEmbeddings(model=\"text-embedding-3-large\")\n",
    "\n",
    "embedding_fn = HuggingFaceEmbeddings(model_name=\"sentence-transformers/all-mpnet-base-v2\")\n",
    "\n",
    "vectorstore_two = Chroma.from_documents(\n",
    "    documents=doc_splits,\n",
    "    embedding=embedding_fn,\n",
    "    collection_name=\"rag-chroma-mpnet\",  # use a different name\n",
    ")\n",
    "retriever = vectorstore_two.as_retriever()"
   ]
  },
  {
   "cell_type": "code",
   "execution_count": 33,
   "metadata": {},
   "outputs": [],
   "source": [
    "graded_results_v2 = [grade_retrieval_for_row(row, retriever, retrieval_grader) for _, row in synthetic_df.iterrows()]\n",
    "metrics_v2 = evaluate_grader_outputs(graded_results_v2)\n",
    "evaluation_v2 = {}\n",
    "for k, v in metrics_v2.items():\n",
    "    evaluation_v2[k] = v\n"
   ]
  },
  {
   "cell_type": "code",
   "execution_count": 34,
   "metadata": {},
   "outputs": [
    {
     "data": {
      "text/plain": [
       "{'question': 'How can an agent enhance its capability to handle adversarial attacks using external information?',\n",
       " 'graded_docs': [{'doc_id': '0fa3a5ac-f2a9-4c10-9672-d790be5e8be8',\n",
       "   'relevant_predicted': False,\n",
       "   'relevant_actual': True},\n",
       "  {'doc_id': '30f273da-5f07-4d85-a442-d636f27c02a5',\n",
       "   'relevant_predicted': False,\n",
       "   'relevant_actual': False},\n",
       "  {'doc_id': '4776eaf5-4b05-4437-bdfd-c7769c1031a9',\n",
       "   'relevant_predicted': False,\n",
       "   'relevant_actual': False},\n",
       "  {'doc_id': 'ccff528d-6156-499a-ba87-daba791dad7d',\n",
       "   'relevant_predicted': False,\n",
       "   'relevant_actual': False}],\n",
       " 'num_correct_documents_retrieved': 1}"
      ]
     },
     "execution_count": 34,
     "metadata": {},
     "output_type": "execute_result"
    }
   ],
   "source": [
    "graded_results[0]"
   ]
  },
  {
   "cell_type": "code",
   "execution_count": 35,
   "metadata": {},
   "outputs": [
    {
     "data": {
      "text/plain": [
       "{'question': 'How can an agent enhance its capability to handle adversarial attacks using external information?',\n",
       " 'graded_docs': [{'doc_id': '30f273da-5f07-4d85-a442-d636f27c02a5',\n",
       "   'relevant_predicted': False,\n",
       "   'relevant_actual': False},\n",
       "  {'doc_id': '9e55ea56-328e-43f7-b99e-0ff8e7c30a84',\n",
       "   'relevant_predicted': True,\n",
       "   'relevant_actual': False},\n",
       "  {'doc_id': 'cd5e7499-6f6f-4b1a-b6d7-188ef9451dc0',\n",
       "   'relevant_predicted': False,\n",
       "   'relevant_actual': False},\n",
       "  {'doc_id': '5512fb2c-525f-4313-85a5-35bfe614b439',\n",
       "   'relevant_predicted': False,\n",
       "   'relevant_actual': False}],\n",
       " 'num_correct_documents_retrieved': 0}"
      ]
     },
     "execution_count": 35,
     "metadata": {},
     "output_type": "execute_result"
    }
   ],
   "source": [
    "graded_results_v2[0]"
   ]
  },
  {
   "cell_type": "code",
   "execution_count": 36,
   "metadata": {},
   "outputs": [
    {
     "name": "stderr",
     "output_type": "stream",
     "text": [
      "/var/folders/y9/9xqbqkg90tnc0cmm0dxt985m0000gn/T/ipykernel_67912/237238012.py:20: FutureWarning: \n",
      "\n",
      "Passing `palette` without assigning `hue` is deprecated and will be removed in v0.14.0. Assign the `x` variable to `hue` and set `legend=False` for the same effect.\n",
      "\n",
      "  sns.barplot(x=metrics_to_plot, y=values, ax=ax, palette=\"viridis\")\n",
      "/var/folders/y9/9xqbqkg90tnc0cmm0dxt985m0000gn/T/ipykernel_67912/237238012.py:24: UserWarning: set_ticklabels() should only be used with a fixed number of ticks, i.e. after set_ticks() or using a FixedLocator.\n",
      "  ax.set_xticklabels(metrics_to_plot, rotation=45, ha=\"right\")  # Tilt x-axis labels\n"
     ]
    },
    {
     "data": {
      "image/png": "[encoded data removed]",
      "text/plain": [
       "<Figure size 500x400 with 2 Axes>"
      ]
     },
     "metadata": {},
     "output_type": "display_data"
    },
    {
     "data": {
      "image/png": "[encoded data removed]",
      "text/plain": [
       "<Figure size 800x500 with 1 Axes>"
      ]
     },
     "metadata": {},
     "output_type": "display_data"
    }
   ],
   "source": [
    "plot_eval(evaluation_v2)"
   ]
  },
  {
   "cell_type": "code",
   "execution_count": null,
   "metadata": {},
   "outputs": [],
   "source": []
  },
  {
   "cell_type": "code",
   "execution_count": null,
   "metadata": {},
   "outputs": [],
   "source": []
  },
  {
   "cell_type": "code",
   "execution_count": null,
   "metadata": {},
   "outputs": [],
   "source": []
  },
  {
   "cell_type": "code",
   "execution_count": null,
   "metadata": {},
   "outputs": [],
   "source": []
  },
  {
   "cell_type": "code",
   "execution_count": null,
   "metadata": {},
   "outputs": [],
   "source": []
  },
  {
   "cell_type": "code",
   "execution_count": null,
   "metadata": {},
   "outputs": [],
   "source": []
  },
  {
   "cell_type": "code",
   "execution_count": null,
   "metadata": {},
   "outputs": [],
   "source": []
  },
  {
   "cell_type": "code",
   "execution_count": null,
   "metadata": {},
   "outputs": [],
   "source": []
  },
  {
   "cell_type": "code",
   "execution_count": null,
   "metadata": {},
   "outputs": [],
   "source": []
  }
 ],
 "metadata": {
  "colab": {
   "provenance": []
  },
  "kernelspec": {
   "display_name": "Python (myenv)",
   "language": "python",
   "name": "myenv"
  },
  "language_info": {
   "codemirror_mode": {
    "name": "ipython",
    "version": 3
   },
   "file_extension": ".py",
   "mimetype": "text/x-python",
   "name": "python",
   "nbconvert_exporter": "python",
   "pygments_lexer": "ipython3",
   "version": "3.13.3"
  }
 },
 "nbformat": 4,
 "nbformat_minor": 4
}
