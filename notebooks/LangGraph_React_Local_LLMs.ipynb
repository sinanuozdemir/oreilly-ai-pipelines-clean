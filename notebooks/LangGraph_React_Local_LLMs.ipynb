{
 "cells": [
  {
   "cell_type": "markdown",
   "metadata": {},
   "source": [
    "# Setting up a basic ReAct Agent in LangGraph"
   ]
  },
  {
   "cell_type": "code",
   "execution_count": 142,
   "metadata": {},
   "outputs": [],
   "source": [
    "import os\n",
    "\n",
    "os.environ[\"OPENAI_API_KEY\"] = 'sk-***'\n",
    "os.environ[\"SERPAPI_API_KEY\"] = 's***'  # https://serpapi.com for a free token!"
   ]
  },
  {
   "cell_type": "code",
   "execution_count": 3,
   "metadata": {
    "colab": {
     "base_uri": "https://localhost:8080/"
    },
    "id": "-47NGgZAvFz-",
    "outputId": "72f0e0c9-0fa5-45b2-fd88-f3c9f710afa5",
    "scrolled": true
   },
   "outputs": [],
   "source": [
    "from langchain_community.agent_toolkits.load_tools import load_tools\n",
    "tools = load_tools([\"serpapi\"])\n"
   ]
  },
  {
   "cell_type": "code",
   "execution_count": 4,
   "metadata": {},
   "outputs": [
    {
     "data": {
      "text/plain": [
       "'[\\'Sinan Ozdemir is a data scientist, start-up founder, and educator living in the San Francisco Bay Area. He studied pure mathematics at the Johns Hopkins University. ...\\', \\'Sinan Ozdemir type: Author.\\', \\'Sinan Ozdemir entity_type: people.\\', \\'Sinan Ozdemir kgmid: /g/11hcjs9cr6.\\', \\'Helping companies leverage AI technology to solve complex problems. Founder, author, and consultant specializing in AI, LLMs, and data science.\\', \\'Specialized in areas including time management as well as mathematics and computer science logistics.\\', \\'Data Scientist + Author + Entrepreneur. Check out my new book on LLMs on Amazon (Top 10 in AI/NLP) - sinanuozdemir.\\', \\'NLP + Gen AI Expert / LLM whisperer. AI Author. Founder @Aikylie (acquired). Contributor on @Forbes. Fellow @YCombinator. San Francisco, CA.\\', \\'Sinan Ozdemir is a mathematician, data scientist, NLP expert, lecturer, and accomplished author. He is currently applying my extensive knowledge and experience ...\\', \"A beginner\\'s guide to essential math and coding skills for data fluency and machine learning by Sinan Ozdemir\", \\'Sinan is a former lecturer of data science at Johns Hopkins University and the author of multiple textbooks on data science and machine learning. Additionally, ...\\', \\'Sinan Ozdemir is a Data Scientist, Entrepreneur, Teacher, and Author. He is the founder of LoopGenius, a company that helps people get their first 100 ...\\']'"
      ]
     },
     "execution_count": 4,
     "metadata": {},
     "output_type": "execute_result"
    }
   ],
   "source": [
    "tools[0].run('Sinan Ozdemir')"
   ]
  },
  {
   "cell_type": "markdown",
   "metadata": {},
   "source": [
    "# Use [Ollama](https://ollama.com/) for local inference"
   ]
  },
  {
   "cell_type": "code",
   "execution_count": 6,
   "metadata": {},
   "outputs": [
    {
     "name": "stdout",
     "output_type": "stream",
     "text": [
      "\n",
      "\u001b[1m[\u001b[0m\u001b[34;49mnotice\u001b[0m\u001b[1;39;49m]\u001b[0m\u001b[39;49m A new release of pip is available: \u001b[0m\u001b[31;49m25.0\u001b[0m\u001b[39;49m -> \u001b[0m\u001b[32;49m25.1.1\u001b[0m\n",
      "\u001b[1m[\u001b[0m\u001b[34;49mnotice\u001b[0m\u001b[1;39;49m]\u001b[0m\u001b[39;49m To update, run: \u001b[0m\u001b[32;49mpip install --upgrade pip\u001b[0m\n"
     ]
    }
   ],
   "source": [
    "!python -m pip install -qU langchain-ollama"
   ]
  },
  {
   "cell_type": "code",
   "execution_count": 23,
   "metadata": {
    "scrolled": true
   },
   "outputs": [
    {
     "name": "stdout",
     "output_type": "stream",
     "text": [
      "\u001b[?25lpulling manifest ⠋ \u001b[?25h\u001b[?25l\u001b[2K\u001b[1Gpulling manifest ⠙ \u001b[?25h\u001b[?25l\u001b[2K\u001b[1Gpulling manifest ⠹ \u001b[?25h\u001b[?25l\u001b[2K\u001b[1Gpulling manifest ⠸ \u001b[?25h\u001b[?25l\u001b[2K\u001b[1Gpulling manifest \n",
      "pulling 667b0c1932bc... 100% ▕████████████████▏ 4.9 GB                         \n",
      "pulling 948af2743fc7... 100% ▕████████████████▏ 1.5 KB                         \n",
      "pulling 0ba8f0e314b4... 100% ▕████████████████▏  12 KB                         \n",
      "pulling 56bb8bd477a5... 100% ▕████████████████▏   96 B                         \n",
      "pulling 455f34728c9b... 100% ▕████████████████▏  487 B                         \n",
      "verifying sha256 digest \n",
      "writing manifest \n",
      "success \u001b[?25h\n"
     ]
    }
   ],
   "source": [
    "!ollama pull llama3.1"
   ]
  },
  {
   "cell_type": "code",
   "execution_count": 9,
   "metadata": {
    "colab": {
     "base_uri": "https://localhost:8080/"
    },
    "id": "YxTG7Kk2xZhm",
    "outputId": "e08810b4-d44d-4fb6-d3e7-6dad5c406ad8",
    "scrolled": true
   },
   "outputs": [],
   "source": [
    "from langgraph.prebuilt import create_react_agent\n",
    "from langchain_ollama import ChatOllama\n",
    "\n",
    "llm = ChatOllama(\n",
    "    model=\"llama3.1\",\n",
    "    temperature=1\n",
    ")\n",
    "agent_executor = create_react_agent(llm, tools, state_modifier='Today is July 23rd, 2025')  # true as of today :)"
   ]
  },
  {
   "cell_type": "code",
   "execution_count": 10,
   "metadata": {
    "scrolled": true
   },
   "outputs": [],
   "source": [
    "response = agent_executor.invoke({\"messages\": [(\"user\", \"Who is the current Ravens QB?\")]})"
   ]
  },
  {
   "cell_type": "code",
   "execution_count": 11,
   "metadata": {},
   "outputs": [
    {
     "data": {
      "text/plain": [
       "'The current quarterback for the Baltimore Ravens is Lamar Jackson.'"
      ]
     },
     "execution_count": 11,
     "metadata": {},
     "output_type": "execute_result"
    }
   ],
   "source": [
    "response['messages'][-1].content"
   ]
  },
  {
   "cell_type": "code",
   "execution_count": 12,
   "metadata": {
    "scrolled": true
   },
   "outputs": [
    {
     "name": "stdout",
     "output_type": "stream",
     "text": [
      "{'agent': {'messages': [AIMessage(content='', additional_kwargs={}, response_metadata={'model': 'llama3.1', 'created_at': '2025-07-22T22:45:33.810791Z', 'done': True, 'done_reason': 'stop', 'total_duration': 1454183667, 'load_duration': 43094375, 'prompt_eval_count': 191, 'prompt_eval_duration': 643246875, 'eval_count': 20, 'eval_duration': 766822709, 'model_name': 'llama3.1'}, id='run--26b6ef6a-6e98-4438-b68d-8968fea99395-0', tool_calls=[{'name': 'Search', 'args': {'__arg1': 'current Ravens QB'}, 'id': '3a42fa93-76d9-4acf-8d40-bb0c31aa9061', 'type': 'tool_call'}], usage_metadata={'input_tokens': 191, 'output_tokens': 20, 'total_tokens': 211})]}}\n",
      "{'tools': {'messages': [ToolMessage(content='[\\'The Baltimore Ravens are a professional American football team based in Baltimore. The Ravens compete in the National Football League as a member of the American Football Conference North division. The team plays its home games at M&T Bank Stadium and is headquartered in Owings Mills, Maryland.\\', \\'Baltimore Ravens type: Football team.\\', \\'Baltimore Ravens entity_type: american_football, sports.\\', \\'Baltimore Ravens kgmid: /m/01ct6.\\', \\'Baltimore Ravens nfl_championships: 2013, 2001.\\', \\'Baltimore Ravens head_coach: John Harbaugh.\\', \\'Baltimore Ravens location: Baltimore, MD.\\', \\'Baltimore Ravens owner: Steve Bisciotti.\\', \\'Baltimore Ravens president: Sashi Brown.\\', \\'Baltimore Ravens mascots: Conquer, Poe, Rise.\\', \\'Lamar Demeatrice Jackson Jr. (born January 7, 1997) is an American professional football quarterback for the Baltimore Ravens of the National Football League ( ...\\', \\'Lamar Jackson - QB - #8 - Experience: 8 years - Height: 6-2 - Age: 28 - Weight: 205 lbs - College: Louisville\\', \\'LamarJackson · Ravens · #8 · QB. HT/WT. 6\\\\\\' 2\", 205 lbs. Birthdate. 1/7/1997 (28). College. Louisville. Follow. 2024 regular ...\\', \\'Active ; Devin Leary. 13, QB ; Gerad Lichtenhan. 78, T ; Isaiah Likely. 80, TE ; Tyler Linderbaum. 64, C ...\\', \\'Baltimore Ravens quarterback Lamar Jackson became the all-time leading rusher at the quarterback position on Wednesday against the Houston Texans, passing Mike ...\\', \\'Carson Vinson71. POS · Age · HT · WT · Exp, College. QB. 28. 6\\\\\\' 2\". 205 lbs. 8. Louisville. QB. 25. 6\\\\\\' 1\". 216 lbs. 1. Kentucky. QB. 31. 6\\\\\\' 3\". 225 lbs. 8.\\', \\'NFL QB rankings shockingly disrespect Lamar Jackson with pitiful decision The disrespect for Baltimore Ravens quarterback Lamar Jackson is ...\\', \\'Get the latest on Baltimore Ravens QB Lamar Jackson including news, stats, videos, and more on CBSSports.com.\\', \\'Baltimore Ravens QB Lamar Jackson has started preliminary talks with the Ravens about a possible contract extension, according to general manager Eric DeCosta.\\', \\'Lamar Jackson. QB • #8. Baltimore Ravens. active. Info · Stats. Advertising ... Baltimore Ravens, 15, 15, 265, 401, 3127, 7.8, 36, 6, 23, 106, 113.3, 176, 1206 ...\\']', name='Search', id='b222e918-7d73-481b-a9b6-95b66fae9ff4', tool_call_id='3a42fa93-76d9-4acf-8d40-bb0c31aa9061')]}}\n",
      "{'agent': {'messages': [AIMessage(content='The current QB for the Baltimore Ravens is Lamar Jackson (#8). He has been with the team since 2018 and has had a successful career as both a quarterback and a running back.', additional_kwargs={}, response_metadata={'model': 'llama3.1', 'created_at': '2025-07-22T22:45:38.726834Z', 'done': True, 'done_reason': 'stop', 'total_duration': 4817010583, 'load_duration': 69091791, 'prompt_eval_count': 690, 'prompt_eval_duration': 3112178459, 'eval_count': 39, 'eval_duration': 1631799666, 'model_name': 'llama3.1'}, id='run--6a72dce3-dda5-4e5e-a3c0-1198490b105c-0', usage_metadata={'input_tokens': 690, 'output_tokens': 39, 'total_tokens': 729})]}}\n"
     ]
    }
   ],
   "source": [
    "# if I didn't put the date in, it would use a past year like 2023 as the query instead of\n",
    "#  {\"query\":\"current Baltimore Ravens quarterback 2025\"}\n",
    "for event in agent_executor.stream({\"messages\": [(\"user\", \"Who is the current Ravens QB?\")]}):\n",
    "    print(event)\n"
   ]
  },
  {
   "cell_type": "code",
   "execution_count": 13,
   "metadata": {},
   "outputs": [
    {
     "name": "stdout",
     "output_type": "stream",
     "text": [
      "The current QB for the Baltimore Ravens is Lamar Jackson (#8). He has been with the team since 2018 and has had a successful career as both a quarterback and a running back.\n"
     ]
    }
   ],
   "source": [
    "print(event['agent']['messages'][-1].content)"
   ]
  },
  {
   "cell_type": "code",
   "execution_count": null,
   "metadata": {},
   "outputs": [],
   "source": []
  },
  {
   "cell_type": "code",
   "execution_count": 14,
   "metadata": {},
   "outputs": [
    {
     "data": {
      "image/png": "[encoded data removed]",
      "text/plain": [
       "<IPython.core.display.Image object>"
      ]
     },
     "metadata": {},
     "output_type": "display_data"
    }
   ],
   "source": [
    "# Compile the graph\n",
    "from IPython.display import Image, display\n",
    "\n",
    "display(Image(agent_executor.get_graph().draw_mermaid_png()))"
   ]
  },
  {
   "cell_type": "code",
   "execution_count": 15,
   "metadata": {},
   "outputs": [
    {
     "name": "stdout",
     "output_type": "stream",
     "text": [
      "Sinan Ozdemir is a data scientist, start-up founder, and educator living in the San Francisco Bay Area. He studied pure mathematics at the Johns Hopkins University.\n"
     ]
    }
   ],
   "source": [
    "response = agent_executor.invoke({\"messages\": [(\"user\", \"Who is Sinan Ozdemir?\")]})\n",
    "\n",
    "print(response['messages'][-1].content)"
   ]
  },
  {
   "cell_type": "code",
   "execution_count": null,
   "metadata": {},
   "outputs": [],
   "source": []
  },
  {
   "cell_type": "markdown",
   "metadata": {},
   "source": [
    "# Turn our ReAct Agent into a Chat"
   ]
  },
  {
   "cell_type": "code",
   "execution_count": 16,
   "metadata": {},
   "outputs": [],
   "source": [
    "from langgraph.graph import MessagesState, END, StateGraph, START\n",
    "from langchain_core.messages import HumanMessage, AIMessage"
   ]
  },
  {
   "cell_type": "code",
   "execution_count": 17,
   "metadata": {},
   "outputs": [],
   "source": [
    "class ConvoState(MessagesState):\n",
    "    # MessagesState already has messages in it\n",
    "    end: bool\n",
    "\n",
    "def get_user_input(state):\n",
    "    user_msg = input(\"\\n🧑 You: \")\n",
    "    if user_msg.strip().lower() == \"exit\":\n",
    "        return {'end': True}\n",
    "    return {\"messages\": HumanMessage(content=user_msg)}\n",
    "\n",
    "def run_agent(state):\n",
    "    print(f'num of messages: {len(state[\"messages\"])}')\n",
    "    response = agent_executor.invoke({\"messages\": state[\"messages\"]})\n",
    "    print(f\"\\n🤖 Agent: {response['messages'][-1].content}\")\n",
    "    print(f'num of messages: {len(response['messages'])}')\n",
    "    return {\"messages\": response['messages'][len(state['messages']):]}\n",
    "\n",
    "graph_builder = StateGraph(ConvoState)\n",
    "graph_builder.add_node(\"get_user_input\", get_user_input)\n",
    "graph_builder.add_node(\"run_agent\", run_agent)\n",
    "\n",
    "graph_builder.set_entry_point(\"get_user_input\")\n",
    "graph_builder.add_conditional_edges(\n",
    "    \"get_user_input\", \n",
    "    lambda state: 'end' if state.get('end') else 'go',\n",
    "    {\n",
    "        'end': END,\n",
    "        'go': 'run_agent'\n",
    "    }\n",
    ")\n",
    "graph_builder.add_edge(\"run_agent\", \"get_user_input\")\n",
    "\n",
    "graph = graph_builder.compile()"
   ]
  },
  {
   "cell_type": "code",
   "execution_count": 52,
   "metadata": {},
   "outputs": [
    {
     "name": "stdout",
     "output_type": "stream",
     "text": [
      "💬 Start chatting with the agent! Type 'exit' to stop.\n"
     ]
    },
    {
     "name": "stdin",
     "output_type": "stream",
     "text": [
      "\n",
      "🧑 You:  hi\n"
     ]
    },
    {
     "name": "stdout",
     "output_type": "stream",
     "text": [
      "num of messages: 1\n",
      "\n",
      "🤖 Agent: You said \"hi\". How can I assist you today?\n",
      "num of messages: 4\n"
     ]
    },
    {
     "name": "stdin",
     "output_type": "stream",
     "text": [
      "\n",
      "🧑 You:  weather in sf please\n"
     ]
    },
    {
     "name": "stdout",
     "output_type": "stream",
     "text": [
      "num of messages: 5\n",
      "\n",
      "🤖 Agent: The current weather in San Francisco is partly cloudy with a temperature of 68°F (20°C), humidity of 67%, wind speed of 10 mph, and no precipitation. The forecast for this date shows the same conditions throughout the day. Would you like more information or the weather for another location?\n",
      "num of messages: 8\n"
     ]
    },
    {
     "name": "stdin",
     "output_type": "stream",
     "text": [
      "\n",
      "🧑 You:  thanks\n"
     ]
    },
    {
     "name": "stdout",
     "output_type": "stream",
     "text": [
      "num of messages: 9\n",
      "\n",
      "🤖 Agent: You're welcome. Is there anything else I can assist you with?\n",
      "num of messages: 12\n"
     ]
    },
    {
     "name": "stdin",
     "output_type": "stream",
     "text": [
      "\n",
      "🧑 You:  exit\n"
     ]
    }
   ],
   "source": [
    "\n",
    "print(\"💬 Start chatting with the agent! Type 'exit' to stop.\")\n",
    "state = graph.invoke({\"messages\": []})"
   ]
  },
  {
   "cell_type": "code",
   "execution_count": 60,
   "metadata": {},
   "outputs": [
    {
     "name": "stdout",
     "output_type": "stream",
     "text": [
      "<class 'langchain_core.messages.human.HumanMessage'> hi \n",
      "----\n",
      "<class 'langchain_core.messages.ai.AIMessage'>  \n",
      "Tool Call: ID(414bfaeb-f061-467e-a3d5-5f237db3a1b8), Name(Search), Args({'__arg1': 'hi'})\n",
      "----\n",
      "<class 'langchain_core.messages.tool.ToolMessage'> {'type': 'dictionary_results', 'syllables': 'hi', 'word_type': 'exclamation'} Tool ID:414bfaeb-f061-467e-a3d5-5f237db3a1b8\n",
      "----\n",
      "<class 'langchain_core.messages.ai.AIMessage'> You said \"hi\". How can I assist you today? \n",
      "----\n",
      "<class 'langchain_core.messages.human.HumanMessage'> weather in sf please \n",
      "----\n",
      "<class 'langchain_core.messages.ai.AIMessage'>  \n",
      "Tool Call: ID(27abe48b-c6da-4bb2-b4ab-e2a0b021de62), Name(Search), Args({'__arg1': 'weather in sf'})\n",
      "----\n",
      "<class 'langchain_core.messages.tool.ToolMessage'> {'type': 'weather_result', 'temperature': '68', 'unit': 'Fahrenheit', 'precipitation': '0%', 'humidity': '67%', 'wind': '10 mph', 'location': 'San Francisco, CA', 'date': 'Friday 2:00 PM', 'weather': 'Partly cloudy'} Tool ID:27abe48b-c6da-4bb2-b4ab-e2a0b021de62\n",
      "----\n",
      "<class 'langchain_core.messages.ai.AIMessage'> The current weather in San Francisco is partly cloudy with a temperature of 68°F (20°C), humidity of 67%, wind speed of 10 mph, and no precipitation. The forecast for this date shows the same conditions throughout the day. Would you like more information or the weather for another location? \n",
      "----\n",
      "<class 'langchain_core.messages.human.HumanMessage'> thanks \n",
      "----\n",
      "<class 'langchain_core.messages.ai.AIMessage'>  \n",
      "Tool Call: ID(58db1d6f-db52-42a4-95bb-458f78ae8eeb), Name(Search), Args({'__arg1': 'thanks'})\n",
      "----\n",
      "<class 'langchain_core.messages.tool.ToolMessage'> {'type': 'dictionary_results', 'syllables': 'thanks', 'word_type': 'noun'} Tool ID:58db1d6f-db52-42a4-95bb-458f78ae8eeb\n",
      "----\n",
      "<class 'langchain_core.messages.ai.AIMessage'> You're welcome. Is there anything else I can assist you with? \n",
      "----\n"
     ]
    }
   ],
   "source": [
    "# Note the bad first tool call even if the transcript itself to the human seemed ok, that's a wasted tool call\n",
    "for message in state['messages']:\n",
    "    print(type(message), message.content, 'Tool ID:' + message.tool_call_id if hasattr(message, 'tool_call_id') else '')\n",
    "    if message.additional_kwargs.get('tool_calls'):\n",
    "        tool_calls = message.additional_kwargs.get('tool_calls')\n",
    "        for tool_call in tool_calls:\n",
    "            print(f'Tool Call: ID({tool_call[\"id\"]}), Name({tool_call[\"function\"][\"name\"]}), Args({tool_call[\"function\"][\"arguments\"]})')\n",
    "    elif hasattr(message, 'tool_calls'):\n",
    "        tool_calls = message.tool_calls\n",
    "        for tool_call in tool_calls:\n",
    "            print(f'Tool Call: ID({tool_call[\"id\"]}), Name({tool_call[\"name\"]}), Args({tool_call[\"args\"]})')\n",
    "    print('----')"
   ]
  },
  {
   "cell_type": "code",
   "execution_count": 86,
   "metadata": {},
   "outputs": [
    {
     "data": {
      "image/png": "[encoded data removed]",
      "text/plain": [
       "<IPython.core.display.Image object>"
      ]
     },
     "metadata": {},
     "output_type": "display_data"
    }
   ],
   "source": [
    "# Compile the graph\n",
    "from IPython.display import Image, display\n",
    "\n",
    "display(Image(graph.get_graph().draw_mermaid_png()))"
   ]
  },
  {
   "cell_type": "code",
   "execution_count": null,
   "metadata": {},
   "outputs": [],
   "source": []
  }
 ],
 "metadata": {
  "colab": {
   "provenance": []
  },
  "kernelspec": {
   "display_name": "Python (myenv)",
   "language": "python",
   "name": "myenv"
  },
  "language_info": {
   "codemirror_mode": {
    "name": "ipython",
    "version": 3
   },
   "file_extension": ".py",
   "mimetype": "text/x-python",
   "name": "python",
   "nbconvert_exporter": "python",
   "pygments_lexer": "ipython3",
   "version": "3.13.3"
  }
 },
 "nbformat": 4,
 "nbformat_minor": 4
}
