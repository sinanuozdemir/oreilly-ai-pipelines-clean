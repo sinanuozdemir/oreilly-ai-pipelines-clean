{
 "cells": [
  {
   "cell_type": "markdown",
   "metadata": {},
   "source": [
    "# Setting up a basic ReAct Agent in LangGraph"
   ]
  },
  {
   "cell_type": "code",
   "execution_count": 142,
   "metadata": {},
   "outputs": [],
   "source": [
    "import os\n",
    "\n",
    "os.environ[\"OPENAI_API_KEY\"] = 'sk-***'\n",
    "os.environ[\"SERPAPI_API_KEY\"] = 's***'  # https://serpapi.com for a free token!"
   ]
  },
  {
   "cell_type": "code",
   "execution_count": 4,
   "metadata": {
    "colab": {
     "base_uri": "https://localhost:8080/"
    },
    "id": "-47NGgZAvFz-",
    "outputId": "72f0e0c9-0fa5-45b2-fd88-f3c9f710afa5",
    "scrolled": true
   },
   "outputs": [],
   "source": [
    "from langchain_community.agent_toolkits.load_tools import load_tools\n",
    "tools = load_tools([\"serpapi\"])\n"
   ]
  },
  {
   "cell_type": "code",
   "execution_count": 5,
   "metadata": {},
   "outputs": [
    {
     "data": {
      "text/plain": [
       "'[\\'Sinan Ozdemir is currently the founder and CTO of LoopGenius and an advisor to several AI companies. Sinan is a former lecturer of Data Science at Johns Hopkins University and the author of multiple textbooks on data science and machine learning. ...\\', \\'Sinan Ozdemir type: Author.\\', \\'Sinan Ozdemir entity_type: people.\\', \\'Sinan Ozdemir kgmid: /g/11hcjs9cr6.\\', \\'Specialized in areas including time management as well as mathematics and computer science logistics.\\', \\'Helping companies leverage AI technology to solve complex problems. Founder, author, and consultant specializing in AI, LLMs, and data science.\\', \\'Sinan Ozdemir is a mathematician, data scientist, NLP expert, lecturer, and accomplished author. He is currently applying my extensive knowledge and experience ...\\', \\'Data Scientist + Author + Entrepreneur. Check out my new book on LLMs on Amazon (Top 10 in AI/NLP) - sinanuozdemir.\\', \"A beginner\\'s guide to essential math and coding skills for data fluency and machine learning by Sinan Ozdemir\", \\'NLP + Gen AI Expert / LLM whisperer. AI Author. Founder @Aikylie (acquired). Contributor on @Forbes. Fellow @YCombinator. San Francisco, CA.\\', \\'Sinan Ozdemir is an AI expert, entrepreneur, author, and educator. He holds several AI patents and is known for his consultancy in this field. He has authored ...\\', \\'Sinan is a former lecturer of data science at Johns Hopkins University and the author of multiple textbooks on data science and machine learning. Additionally, ...\\', \\'Looking to speak to a thought leader in AI? Sinan Ozdemir is a leading expert in Generative Artificial Intelligence and Machine Learning, with a successful ...\\']'"
      ]
     },
     "execution_count": 5,
     "metadata": {},
     "output_type": "execute_result"
    }
   ],
   "source": [
    "tools[0].run('Sinan Ozdemir')"
   ]
  },
  {
   "cell_type": "code",
   "execution_count": 10,
   "metadata": {
    "colab": {
     "base_uri": "https://localhost:8080/"
    },
    "id": "YxTG7Kk2xZhm",
    "outputId": "e08810b4-d44d-4fb6-d3e7-6dad5c406ad8",
    "scrolled": true
   },
   "outputs": [],
   "source": [
    "from langchain_openai import ChatOpenAI\n",
    "from langgraph.prebuilt import create_react_agent\n",
    "from datetime import datetime\n",
    "\n",
    "today = datetime.now().strftime(\"%Y-%m-%d\")\n",
    "\n",
    "# Choose the LLM that will drive the agent\n",
    "llm = ChatOpenAI(model=\"gpt-4.1-mini\")\n",
    "agent_executor = create_react_agent(llm, tools, prompt=f'Today is {today}')"
   ]
  },
  {
   "cell_type": "code",
   "execution_count": 11,
   "metadata": {
    "scrolled": true
   },
   "outputs": [],
   "source": [
    "response = agent_executor.invoke({\"messages\": [(\"user\", \"Who is the current Ravens QB?\")]})"
   ]
  },
  {
   "cell_type": "code",
   "execution_count": 12,
   "metadata": {},
   "outputs": [
    {
     "data": {
      "text/plain": [
       "'The current quarterback (QB) for the Baltimore Ravens is Lamar Jackson.'"
      ]
     },
     "execution_count": 12,
     "metadata": {},
     "output_type": "execute_result"
    }
   ],
   "source": [
    "response['messages'][-1].content"
   ]
  },
  {
   "cell_type": "code",
   "execution_count": 13,
   "metadata": {
    "scrolled": true
   },
   "outputs": [
    {
     "name": "stdout",
     "output_type": "stream",
     "text": [
      "{'agent': {'messages': [AIMessage(content='', additional_kwargs={'tool_calls': [{'id': 'call_P2caQZFhY2giIPdIEup7G9xy', 'function': {'arguments': '{\"__arg1\":\"current Baltimore Ravens quarterback\"}', 'name': 'Search'}, 'type': 'function'}], 'refusal': None}, response_metadata={'token_usage': {'completion_tokens': 18, 'prompt_tokens': 83, 'total_tokens': 101, 'completion_tokens_details': {'accepted_prediction_tokens': 0, 'audio_tokens': 0, 'reasoning_tokens': 0, 'rejected_prediction_tokens': 0}, 'prompt_tokens_details': {'audio_tokens': 0, 'cached_tokens': 0}}, 'model_name': 'gpt-4.1-mini-2025-04-14', 'system_fingerprint': 'fp_6f2eabb9a5', 'id': 'chatcmpl-C2IJmDi2JSu3lay91R713Drn5AoQn', 'service_tier': 'default', 'finish_reason': 'tool_calls', 'logprobs': None}, id='run--4badd621-191a-41d1-addb-e597dc79e875-0', tool_calls=[{'name': 'Search', 'args': {'__arg1': 'current Baltimore Ravens quarterback'}, 'id': 'call_P2caQZFhY2giIPdIEup7G9xy', 'type': 'tool_call'}], usage_metadata={'input_tokens': 83, 'output_tokens': 18, 'total_tokens': 101, 'input_token_details': {'audio': 0, 'cache_read': 0}, 'output_token_details': {'audio': 0, 'reasoning': 0}})]}}\n",
      "{'tools': {'messages': [ToolMessage(content='[\\'The Baltimore Ravens are a professional American football team based in Baltimore. The Ravens compete in the National Football League as a member of the American Football Conference North division. The team plays its home games at M&T Bank Stadium and is headquartered in Owings Mills, Maryland.\\', \\'Baltimore Ravens type: Football team.\\', \\'Baltimore Ravens entity_type: american_football, sports.\\', \\'Baltimore Ravens kgmid: /m/01ct6.\\', \\'Baltimore Ravens nfl_championships: 2013, 2001.\\', \\'Baltimore Ravens head_coach: John Harbaugh.\\', \\'Baltimore Ravens owner: Steve Bisciotti.\\', \\'Baltimore Ravens location: Baltimore, MD.\\', \\'Baltimore Ravens mascots: Conquer, Poe, Rise.\\', \\'Baltimore Ravens division: AFC North.\\', \\'Lamar Jackson - QB - #8 - Experience: 8 years - Height: 6-2 - Age: 28 - Weight: 205 lbs - College: Louisville\\', \\'Lamar Demeatrice Jackson Jr. (born January 7, 1997) is an American professional football quarterback for the Baltimore Ravens of the National Football League ( ...\\', \\'View the profile of Baltimore Ravens Quarterback Lamar Jackson on ESPN. Get the latest news, live stats and game highlights.\\', \\'Active ; Devin Leary. 13, QB ; Gerad Lichtenhan. 78, T ; Isaiah Likely. 80, TE ; Tyler Linderbaum. 64, C ...\\', \\'Baltimore Ravens quarterback Lamar Jackson became the all-time leading rusher at the quarterback position on Wednesday against the Houston Texans, passing Mike ...\\', \\'Carson Vinson71. POS · Age · HT · WT · Exp, College. QB. 28. 6\\\\\\' 2\". 205 lbs. 8. Louisville. QB. 25. 6\\\\\\' 1\". 215 lbs. 1. Kentucky. QB. 31. 6\\\\\\' 3\". 225 lbs. 8.\\', \"Lamar Jackson becomes second Louisville football player to join Madden\\'s 99 Club Baltimore Ravens QB Lamar Jackson is just the second former ...\", \"Roster ; Lamar Jackson. 8, QB ; John Jenkins. 62, DT ; D\\'Ernest Johnson. RB ; Jayson Jones. 69, DT ...\", \\'Offensive Positions ; Quarterback, L. Jackson · Lamar Jackson ; Running Back, D. Henry · Derrick Henry ; Fullback, P. RicardPatrick Ricard ; Wide Receiver, Z. Flowers ...\\']', name='Search', id='4bbbc13b-038d-41ed-af40-54e263b602aa', tool_call_id='call_P2caQZFhY2giIPdIEup7G9xy')]}}\n",
      "{'agent': {'messages': [AIMessage(content='The current quarterback (QB) for the Baltimore Ravens is Lamar Jackson.', additional_kwargs={'refusal': None}, response_metadata={'token_usage': {'completion_tokens': 15, 'prompt_tokens': 631, 'total_tokens': 646, 'completion_tokens_details': {'accepted_prediction_tokens': 0, 'audio_tokens': 0, 'reasoning_tokens': 0, 'rejected_prediction_tokens': 0}, 'prompt_tokens_details': {'audio_tokens': 0, 'cached_tokens': 0}}, 'model_name': 'gpt-4.1-mini-2025-04-14', 'system_fingerprint': 'fp_6f2eabb9a5', 'id': 'chatcmpl-C2IJnPneiI5KZ48PD6jDy2DN6drPt', 'service_tier': 'default', 'finish_reason': 'stop', 'logprobs': None}, id='run--34a6714b-77a8-481f-b0aa-0d0fc257e66b-0', usage_metadata={'input_tokens': 631, 'output_tokens': 15, 'total_tokens': 646, 'input_token_details': {'audio': 0, 'cache_read': 0}, 'output_token_details': {'audio': 0, 'reasoning': 0}})]}}\n"
     ]
    }
   ],
   "source": [
    "# if I didn't put the date in, it would use a past year like 2023 as thr query instead of\n",
    "#  {\"query\":\"current Baltimore Ravens quarterback 2025\"}\n",
    "for event in agent_executor.stream({\"messages\": [(\"user\", \"Who is the current Ravens QB?\")]}):\n",
    "    print(event)\n"
   ]
  },
  {
   "cell_type": "code",
   "execution_count": 14,
   "metadata": {},
   "outputs": [
    {
     "name": "stdout",
     "output_type": "stream",
     "text": [
      "The current quarterback (QB) for the Baltimore Ravens is Lamar Jackson.\n"
     ]
    }
   ],
   "source": [
    "print(event['agent']['messages'][-1].content)"
   ]
  },
  {
   "cell_type": "code",
   "execution_count": null,
   "metadata": {},
   "outputs": [],
   "source": []
  },
  {
   "cell_type": "code",
   "execution_count": 15,
   "metadata": {},
   "outputs": [
    {
     "data": {
      "image/png": "[encoded data removed]",
      "text/plain": [
       "<IPython.core.display.Image object>"
      ]
     },
     "metadata": {},
     "output_type": "display_data"
    }
   ],
   "source": [
    "# Compile the graph\n",
    "from IPython.display import Image, display\n",
    "\n",
    "display(Image(agent_executor.get_graph().draw_mermaid_png()))"
   ]
  },
  {
   "cell_type": "code",
   "execution_count": 16,
   "metadata": {},
   "outputs": [
    {
     "name": "stdout",
     "output_type": "stream",
     "text": [
      "Sinan Ozdemir is a mathematician, data scientist, NLP (Natural Language Processing) expert, lecturer, author, and entrepreneur. He is a former lecturer of Data Science at Johns Hopkins University and has authored multiple textbooks on data science and machine learning. Sinan is known as an expert in AI, large language models (LLMs), and data science, and he helps companies leverage AI technology to solve complex problems. He is currently the founder and CTO of LoopGenius and serves as an advisor to several AI companies. Additionally, he has contributed to Forbes and holds several AI patents.\n"
     ]
    }
   ],
   "source": [
    "response = agent_executor.invoke({\"messages\": [(\"user\", \"Who is Sinan Ozdemir?\")]})\n",
    "\n",
    "print(response['messages'][-1].content)"
   ]
  },
  {
   "cell_type": "code",
   "execution_count": null,
   "metadata": {},
   "outputs": [],
   "source": []
  },
  {
   "cell_type": "markdown",
   "metadata": {},
   "source": [
    "# Turn our ReAct Agent into a Chat"
   ]
  },
  {
   "cell_type": "code",
   "execution_count": 13,
   "metadata": {},
   "outputs": [],
   "source": [
    "from langgraph.graph import MessagesState, END, StateGraph, START\n",
    "from langchain_core.messages import HumanMessage, AIMessage"
   ]
  },
  {
   "cell_type": "code",
   "execution_count": 16,
   "metadata": {},
   "outputs": [],
   "source": [
    "class ConvoState(MessagesState):\n",
    "    # MessagesState already has messages in it\n",
    "    end: bool\n",
    "\n",
    "def get_user_input(state):\n",
    "    user_msg = input(\"\\n🧑 You: \")\n",
    "    if user_msg.strip().lower() == \"exit\":\n",
    "        return {'end': True}\n",
    "    return {\"messages\": HumanMessage(content=user_msg)}\n",
    "\n",
    "def run_agent(state):\n",
    "    print(f'num of messages: {len(state[\"messages\"])}')\n",
    "    response = agent_executor.invoke({\"messages\": state[\"messages\"]})\n",
    "    print(f\"\\n🤖 Agent: {response['messages'][-1].content}\")\n",
    "    print(f'num of messages: {len(response['messages'])}')\n",
    "    return {\"messages\": response['messages'][len(state['messages']):]}\n",
    "\n",
    "graph_builder = StateGraph(ConvoState)\n",
    "graph_builder.add_node(\"get_user_input\", get_user_input)\n",
    "graph_builder.add_node(\"run_agent\", run_agent)\n",
    "\n",
    "graph_builder.set_entry_point(\"get_user_input\")\n",
    "graph_builder.add_conditional_edges(\n",
    "    \"get_user_input\", \n",
    "    lambda state: 'end' if state.get('end') else 'go',\n",
    "    {\n",
    "        'end': END,\n",
    "        'go': 'run_agent'\n",
    "    }\n",
    ")\n",
    "graph_builder.add_edge(\"run_agent\", \"get_user_input\")\n",
    "\n",
    "graph = graph_builder.compile()"
   ]
  },
  {
   "cell_type": "code",
   "execution_count": 18,
   "metadata": {},
   "outputs": [
    {
     "name": "stdout",
     "output_type": "stream",
     "text": [
      "💬 Start chatting with the agent! Type 'exit' to stop.\n"
     ]
    },
    {
     "name": "stdout",
     "output_type": "stream",
     "text": [
      "\n",
      "🧑 You:  hi\n"
     ]
    },
    {
     "name": "stdout",
     "output_type": "stream",
     "text": [
      "num of messages: 1\n",
      "\n",
      "🤖 Agent: Hello! How can I assist you today?\n",
      "num of messages: 2\n"
     ]
    },
    {
     "name": "stdout",
     "output_type": "stream",
     "text": [
      "\n",
      "🧑 You:  weather in sf please\n"
     ]
    },
    {
     "name": "stdout",
     "output_type": "stream",
     "text": [
      "num of messages: 3\n",
      "\n",
      "🤖 Agent: The current weather in San Francisco is partly cloudy with a temperature of 68°F. The humidity is at 67%, and there's no precipitation expected. There's a light wind blowing at 10 mph.\n",
      "num of messages: 6\n"
     ]
    },
    {
     "name": "stdout",
     "output_type": "stream",
     "text": [
      "\n",
      "🧑 You:  thanks\n"
     ]
    },
    {
     "name": "stdout",
     "output_type": "stream",
     "text": [
      "num of messages: 7\n",
      "\n",
      "🤖 Agent: You're welcome! If you have any more questions or need assistance with anything else, feel free to ask!\n",
      "num of messages: 8\n"
     ]
    },
    {
     "name": "stdout",
     "output_type": "stream",
     "text": [
      "\n",
      "🧑 You:  exit\n"
     ]
    }
   ],
   "source": [
    "\n",
    "print(\"💬 Start chatting with the agent! Type 'exit' to stop.\")\n",
    "state = graph.invoke({\"messages\": []})"
   ]
  },
  {
   "cell_type": "code",
   "execution_count": 22,
   "metadata": {},
   "outputs": [
    {
     "name": "stdout",
     "output_type": "stream",
     "text": [
      "<class 'langchain_core.messages.human.HumanMessage'> hi \n",
      "----\n",
      "<class 'langchain_core.messages.ai.AIMessage'> Hello! How can I assist you today? \n",
      "----\n",
      "<class 'langchain_core.messages.human.HumanMessage'> weather in sf please \n",
      "----\n",
      "<class 'langchain_core.messages.ai.AIMessage'>  \n",
      "Tool Call: ID(call_i56kZkkVF3KvKzi3479nqjzd), Name(Search), Args({\"__arg1\":\"current weather in San Francisco\"})\n",
      "----\n",
      "<class 'langchain_core.messages.tool.ToolMessage'> {'type': 'weather_result', 'temperature': '68', 'unit': 'Fahrenheit', 'precipitation': '0%', 'humidity': '67%', 'wind': '10 mph', 'location': 'San Francisco, CA', 'date': 'Friday 2:00 PM', 'weather': 'Partly cloudy'} Tool ID:call_i56kZkkVF3KvKzi3479nqjzd\n",
      "----\n",
      "<class 'langchain_core.messages.ai.AIMessage'> The current weather in San Francisco is partly cloudy with a temperature of 68°F. The humidity is at 67%, and there's no precipitation expected. There's a light wind blowing at 10 mph. \n",
      "----\n",
      "<class 'langchain_core.messages.human.HumanMessage'> thanks \n",
      "----\n",
      "<class 'langchain_core.messages.ai.AIMessage'> You're welcome! If you have any more questions or need assistance with anything else, feel free to ask! \n",
      "----\n"
     ]
    }
   ],
   "source": [
    "for message in state['messages']:\n",
    "    print(type(message), message.content, 'Tool ID:' + message.tool_call_id if hasattr(message, 'tool_call_id') else '')\n",
    "    if message.additional_kwargs.get('tool_calls'):\n",
    "        tool_calls = message.additional_kwargs.get('tool_calls')\n",
    "        for tool_call in tool_calls:\n",
    "            print(f'Tool Call: ID({tool_call[\"id\"]}), Name({tool_call[\"function\"][\"name\"]}), Args({tool_call[\"function\"][\"arguments\"]})')\n",
    "    elif hasattr(message, 'tool_calls'):\n",
    "        tool_calls = message.tool_calls\n",
    "        for tool_call in tool_calls:\n",
    "            print(f'Tool Call: ID({tool_call[\"id\"]}), Name({tool_call[\"name\"]}), Args({tool_call[\"args\"]})')\n",
    "    print('----')"
   ]
  },
  {
   "cell_type": "code",
   "execution_count": 86,
   "metadata": {},
   "outputs": [
    {
     "data": {
      "image/png": "[encoded data removed]",
      "text/plain": [
       "<IPython.core.display.Image object>"
      ]
     },
     "metadata": {},
     "output_type": "display_data"
    }
   ],
   "source": [
    "# Compile the graph\n",
    "from IPython.display import Image, display\n",
    "\n",
    "display(Image(graph.get_graph().draw_mermaid_png()))"
   ]
  },
  {
   "cell_type": "code",
   "execution_count": null,
   "metadata": {},
   "outputs": [],
   "source": []
  }
 ],
 "metadata": {
  "colab": {
   "provenance": []
  },
  "kernelspec": {
   "display_name": "oreilly-llm-allignment",
   "language": "python",
   "name": "python3"
  },
  "language_info": {
   "codemirror_mode": {
    "name": "ipython",
    "version": 3
   },
   "file_extension": ".py",
   "mimetype": "text/x-python",
   "name": "python",
   "nbconvert_exporter": "python",
   "pygments_lexer": "ipython3",
   "version": "3.11.6"
  }
 },
 "nbformat": 4,
 "nbformat_minor": 4
}
