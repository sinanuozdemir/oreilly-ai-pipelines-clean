{
 "cells": [
  {
   "cell_type": "markdown",
   "metadata": {},
   "source": [
    "# Setting up a basic ReAct Agent in LangGraph"
   ]
  },
  {
   "cell_type": "code",
   "execution_count": null,
   "metadata": {},
   "outputs": [],
   "source": [
    "import os\n",
    "\n",
    "os.environ[\"OPENROUTER_API_KEY\"] = 'sk-***'\n",
    "os.environ[\"SERPAPI_API_KEY\"] = 's***'  # https://serpapi.com for a free token!"
   ]
  },
  {
   "cell_type": "code",
   "execution_count": 3,
   "metadata": {
    "colab": {
     "base_uri": "https://localhost:8080/"
    },
    "id": "-47NGgZAvFz-",
    "outputId": "72f0e0c9-0fa5-45b2-fd88-f3c9f710afa5",
    "scrolled": true
   },
   "outputs": [],
   "source": [
    "from langchain_community.agent_toolkits.load_tools import load_tools\n",
    "tools = load_tools([\"serpapi\"])\n"
   ]
  },
  {
   "cell_type": "code",
   "execution_count": 4,
   "metadata": {},
   "outputs": [
    {
     "data": {
      "text/plain": [
       "'[\\'Sinan Ozdemir is currently the founder and CTO of LoopGenius and an advisor to several AI companies. Sinan is a former lecturer of Data Science at Johns Hopkins University and the author of multiple textbooks on data science and machine learning. ...\\', \\'Sinan Ozdemir type: Author.\\', \\'Sinan Ozdemir entity_type: people.\\', \\'Sinan Ozdemir kgmid: /g/11hcjs9cr6.\\', \\'Specialized in areas including time management as well as mathematics and computer science logistics.\\', \\'Helping companies leverage AI technology to solve complex problems. Founder, author, and consultant specializing in AI, LLMs, and data science.\\', \\'Data Scientist + Author + Entrepreneur. Check out my new book on LLMs on Amazon (Top 10 in AI/NLP) - sinanuozdemir.\\', \\'Sinan Ozdemir is a mathematician, data scientist, NLP expert, lecturer, and accomplished author. He is currently applying my extensive knowledge and experience ...\\', \"A beginner\\'s guide to essential math and coding skills for data fluency and machine learning by Sinan Ozdemir\", \\'NLP + Gen AI Expert / LLM whisperer. AI Author. Founder @Aikylie (acquired). Contributor on @Forbes. Fellow @YCombinator. San Francisco, CA.\\', \\'Sinan is a former lecturer of data science at Johns Hopkins University and the author of multiple textbooks on data science and machine learning. Additionally, ...\\', \\'Sinan Ozdemir is a Data Scientist, Entrepreneur, Teacher, and Author. He is the founder of LoopGenius, a company that helps people get their first 100 ...\\']'"
      ]
     },
     "execution_count": 4,
     "metadata": {},
     "output_type": "execute_result"
    }
   ],
   "source": [
    "tools[0].run('Sinan Ozdemir')"
   ]
  },
  {
   "cell_type": "markdown",
   "metadata": {},
   "source": [
    "# Use [OpenRouter](https://openrouter.ai/) for API inference"
   ]
  },
  {
   "cell_type": "code",
   "execution_count": 5,
   "metadata": {
    "colab": {
     "base_uri": "https://localhost:8080/"
    },
    "id": "YxTG7Kk2xZhm",
    "outputId": "e08810b4-d44d-4fb6-d3e7-6dad5c406ad8",
    "scrolled": true
   },
   "outputs": [],
   "source": [
    "from langgraph.prebuilt import create_react_agent\n",
    "from langchain_openai import ChatOpenAI\n",
    "from datetime import datetime\n",
    "import os\n",
    "\n",
    "openrouter_llm = ChatOpenAI(\n",
    "    model=\"openai/gpt-4.1-mini\",\n",
    "    base_url=\"https://openrouter.ai/api/v1\",\n",
    "    api_key=os.getenv(\"OPENROUTER_API_KEY\")\n",
    ")\n",
    "\n",
    "today = datetime.now().strftime(\"%B %d, %Y\")\n",
    "\n",
    "agent_executor = create_react_agent(openrouter_llm, tools, prompt=f'Today is {today}')  # true as of today :)"
   ]
  },
  {
   "cell_type": "code",
   "execution_count": 6,
   "metadata": {
    "scrolled": true
   },
   "outputs": [],
   "source": [
    "response = agent_executor.invoke({\"messages\": [(\"user\", \"Who is the current Ravens QB?\")]})\n"
   ]
  },
  {
   "cell_type": "code",
   "execution_count": 7,
   "metadata": {},
   "outputs": [
    {
     "data": {
      "text/plain": [
       "'The current quarterback (QB) for the Baltimore Ravens is Lamar Jackson.'"
      ]
     },
     "execution_count": 7,
     "metadata": {},
     "output_type": "execute_result"
    }
   ],
   "source": [
    "response['messages'][-1].content"
   ]
  },
  {
   "cell_type": "code",
   "execution_count": 8,
   "metadata": {},
   "outputs": [
    {
     "name": "stdout",
     "output_type": "stream",
     "text": [
      "LLM: openai/gpt-oss-120b\n",
      "The Baltimore Ravens’ starting quarterback in 2025 is **Lamar Jackson**【0†title】.  He remains the team’s primary starter heading into the 2025 season.\n",
      "Time taken: 5.425486087799072 seconds\n",
      "LLM: openai/gpt-4.1-mini\n",
      "The current quarterback for the Baltimore Ravens is Lamar Jackson.\n",
      "Time taken: 13.899925947189331 seconds\n",
      "LLM: openai/gpt-5-nano\n",
      "Lamar Jackson. He’s the Ravens’ starting quarterback for the 2025 season. If you’d like, I can pull up the latest roster or news to confirm any recent changes.\n",
      "Time taken: 36.36910104751587 seconds\n",
      "LLM: anthropic/claude-sonnet-4\n",
      "Based on the search results, the current Ravens quarterback is **Lamar Jackson**. He wears #8 and is in his 8th year of experience. The search results show he's listed as the starting quarterback on the Ravens' depth chart for 2025, with backup quarterbacks Cooper Rush and Devin Leary behind him.\n",
      "Time taken: 7.765580892562866 seconds\n",
      "LLM: ai21/jamba-mini-1.7\n",
      "Lamar Jackson is the current quarterback for the Baltimore Ravens. He signed a five-year, $260 million contract extension with the Ravens on April 27, 2023. As of 2025, he is 28 years old, stands at 6 feet 2 inches, and weighs 205 pounds. Lamar Jackson joined the Ravens as the 32nd overall pick in the 2018 NFL Draft.  In Week 15 of the 2023 season, Lamar Jackson achieved a significant milestone by surpassing Mike Vick to become the all-time leading rusher among quarterbacks. \n",
      "Time taken: 6.677330017089844 seconds\n"
     ]
    }
   ],
   "source": [
    "import time\n",
    "for llm in (\n",
    "    'openai/gpt-oss-120b',\n",
    "    'openai/gpt-4.1-mini',\n",
    "    \n",
    "    'openai/gpt-5-nano',\n",
    "    'anthropic/claude-sonnet-4',\n",
    "    'ai21/jamba-mini-1.7'\n",
    "):  \n",
    "    openrouter_llm = ChatOpenAI(\n",
    "        model=llm,\n",
    "        base_url=\"https://openrouter.ai/api/v1\",\n",
    "        api_key=os.getenv(\"OPENROUTER_API_KEY\"),\n",
    "        extra_body={'order': ['groq'], }\n",
    "        \n",
    "    )\n",
    "    agent_executor = create_react_agent(openrouter_llm, tools, prompt=f'Today is {today}') \n",
    "    print(f'LLM: {llm}')\n",
    "    start_time = time.time()\n",
    "    print(agent_executor.invoke({\"messages\": [(\"user\", \"Who is the current Ravens QB?\")]})['messages'][-1].content)\n",
    "    end_time = time.time()\n",
    "    print(f'Time taken: {end_time - start_time} seconds')"
   ]
  },
  {
   "cell_type": "code",
   "execution_count": null,
   "metadata": {},
   "outputs": [],
   "source": []
  }
 ],
 "metadata": {
  "colab": {
   "provenance": []
  },
  "kernelspec": {
   "display_name": "oreilly-llm-allignment",
   "language": "python",
   "name": "python3"
  },
  "language_info": {
   "codemirror_mode": {
    "name": "ipython",
    "version": 3
   },
   "file_extension": ".py",
   "mimetype": "text/x-python",
   "name": "python",
   "nbconvert_exporter": "python",
   "pygments_lexer": "ipython3",
   "version": "3.11.6"
  }
 },
 "nbformat": 4,
 "nbformat_minor": 4
}
